{
 "cells": [
  {
   "cell_type": "markdown",
   "metadata": {},
   "source": [
    "# <center> Airifi </center>\n",
    "\n",
    "### Company Introduction: Company is an air purifier company. <br>\n",
    "\n",
    "One of the leading Global pollution controller organizations.\n",
    "The company is working its way for the betterment of the society by using advanced technologies to purify the air by removing harmful particles from the atmosphere."
   ]
  },
  {
   "cell_type": "markdown",
   "metadata": {},
   "source": [
    "# Problem Statement: \n",
    "\n",
    "- China is notorious for being a major polluter. Its economic growth in the past three decades has been the fastest among major nations, which is the main factor in why China has extensive air pollution.<br>\n",
    "- China’s Environmental Sustainability Index is ranked near the bottom among countries worldwide.Air Pollution in Beijing is mainly dominated by coal combustion and vehicles running on the roads.<br>\n",
    "- With this amplified wealth, individuals are more capable of affording motor vehicles. The number of motor vehicles on Beijing’s roads has doubled to 3.3 million with nearly 1200 added each day.<br>\n"
   ]
  },
  {
   "cell_type": "markdown",
   "metadata": {},
   "source": [
    "# <center> Data Description </center>"
   ]
  },
  {
   "cell_type": "markdown",
   "metadata": {},
   "source": [
    "<table>\t\t\t\t\t\t\t\n",
    "<th>\tColumn Name\t</th>\t<th>\tDescription\t</th>\t\t\n",
    "<tr>\t<td>\tREF_NO\t</td>\t<td>\tIndex of rows\t</td>\t</tr>\n",
    "<tr>\t<td>\tyear\t</td>\t<td>\tContains the year in which the data was Recorded\t</td>\t</tr>\n",
    "<tr>\t<td>\tmonth\t</td>\t<td>\tContains the month of the year in which the data was Recorded\t</td>\t</tr>\n",
    "<tr>\t<td>\tday\t</td>\t<td>\tContains the day of the month in which the data was Recorded\t</td>\t</tr>\n",
    "<tr>\t<td>\thour\t</td>\t<td>\tContains at what hour of the day the data was Recorded\t</td>\t</tr>\n",
    "<tr>\t<td>\tPM2.5\t</td>\t<td>\tAtmospheric particulate matter (PM) that have a diameter less than 2.5 micrometers\t</td>\t</tr>\n",
    "<tr>\t<td>\tPM10\t</td>\t<td>\tAtmospheric particulate matter (PM) that have a diameter less than 10 micrometers\t</td>\t</tr>\n",
    "<tr>\t<td>\tSO2\t</td>\t<td>\tSO2 concentration (ug/m^3)\t</td>\t</tr>\n",
    "<tr>\t<td>\tNO2\t</td>\t<td>\tNO2 concentration (ug/m^3)\t</td>\t</tr>\n",
    "<tr>\t<td>\tCO\t</td>\t<td>\tCO concentration (ug/m^3)\t</td>\t</tr>\n",
    "<tr>\t<td>\tO3\t</td>\t<td>\tOzone concentration (ug/m^3)\t</td>\t</tr>\n",
    "<tr>\t<td>\tTemp\t</td>\t<td>\ttemperature (degree Celsius)\t</td>\t</tr>\n",
    "<tr>\t<td>\tPRES\t</td>\t<td>\tpressure (hPa)\t</td>\t</tr>\n",
    "<tr>\t<td>\tDEWP\t</td>\t<td>\tdew point temperature (degree Celsius)\t</td>\t</tr>\n",
    "<tr>\t<td>\tRAIN\t</td>\t<td>\tRAIN in (mm)\t</td>\t</tr>\n",
    "<tr>\t<td>\twd\t</td>\t<td>\twind direction\t</td>\t</tr>\n",
    "<tr>\t<td>\tWSPM\t</td>\t<td>\twind speed (m/s)\t</td>\t</tr>\n",
    "<tr>\t<td>\tstation\t</td>\t<td>\tname of the air-quality monitoring site\t</td>\t</tr>\n",
    "</table>\t\t\t\t\t\t\t\n"
   ]
  },
  {
   "cell_type": "code",
   "execution_count": 1,
   "metadata": {},
   "outputs": [],
   "source": [
    "import pandas as pd\n",
    "import numpy as np\n",
    "import matplotlib.pyplot as plt\n",
    "%matplotlib inline\n",
    "import seaborn as sns"
   ]
  },
  {
   "cell_type": "code",
   "execution_count": 2,
   "metadata": {},
   "outputs": [
    {
     "data": {
      "text/plain": [
       "(403776, 18)"
      ]
     },
     "execution_count": 2,
     "metadata": {},
     "output_type": "execute_result"
    }
   ],
   "source": [
    "train_data = pd.read_csv('beijing_train.csv')\n",
    "train_data.shape"
   ]
  },
  {
   "cell_type": "code",
   "execution_count": 3,
   "metadata": {},
   "outputs": [
    {
     "data": {
      "text/plain": [
       "(16728, 17)"
      ]
     },
     "execution_count": 3,
     "metadata": {},
     "output_type": "execute_result"
    }
   ],
   "source": [
    "test_data = pd.read_csv('beijing_test.csv')\n",
    "test_data.shape"
   ]
  },
  {
   "cell_type": "code",
   "execution_count": 4,
   "metadata": {},
   "outputs": [
    {
     "data": {
      "text/html": [
       "<div>\n",
       "<style scoped>\n",
       "    .dataframe tbody tr th:only-of-type {\n",
       "        vertical-align: middle;\n",
       "    }\n",
       "\n",
       "    .dataframe tbody tr th {\n",
       "        vertical-align: top;\n",
       "    }\n",
       "\n",
       "    .dataframe thead th {\n",
       "        text-align: right;\n",
       "    }\n",
       "</style>\n",
       "<table border=\"1\" class=\"dataframe\">\n",
       "  <thead>\n",
       "    <tr style=\"text-align: right;\">\n",
       "      <th></th>\n",
       "      <th>REF_NO</th>\n",
       "      <th>year</th>\n",
       "      <th>month</th>\n",
       "      <th>day</th>\n",
       "      <th>hour</th>\n",
       "      <th>PM2.5</th>\n",
       "      <th>PM10</th>\n",
       "      <th>SO2</th>\n",
       "      <th>NO2</th>\n",
       "      <th>CO</th>\n",
       "      <th>O3</th>\n",
       "      <th>TEMP</th>\n",
       "      <th>PRES</th>\n",
       "      <th>DEWP</th>\n",
       "      <th>RAIN</th>\n",
       "      <th>wd</th>\n",
       "      <th>WSPM</th>\n",
       "      <th>station</th>\n",
       "    </tr>\n",
       "  </thead>\n",
       "  <tbody>\n",
       "    <tr>\n",
       "      <th>0</th>\n",
       "      <td>1</td>\n",
       "      <td>2013</td>\n",
       "      <td>3</td>\n",
       "      <td>1</td>\n",
       "      <td>0</td>\n",
       "      <td>4.0</td>\n",
       "      <td>4.0</td>\n",
       "      <td>4.0</td>\n",
       "      <td>7.0</td>\n",
       "      <td>300.0</td>\n",
       "      <td>77.0</td>\n",
       "      <td>-0.7</td>\n",
       "      <td>1023.0</td>\n",
       "      <td>-18.8</td>\n",
       "      <td>0.0</td>\n",
       "      <td>NNW</td>\n",
       "      <td>4.4</td>\n",
       "      <td>Aotizhongxin</td>\n",
       "    </tr>\n",
       "    <tr>\n",
       "      <th>1</th>\n",
       "      <td>2</td>\n",
       "      <td>2013</td>\n",
       "      <td>3</td>\n",
       "      <td>1</td>\n",
       "      <td>1</td>\n",
       "      <td>8.0</td>\n",
       "      <td>8.0</td>\n",
       "      <td>4.0</td>\n",
       "      <td>7.0</td>\n",
       "      <td>300.0</td>\n",
       "      <td>77.0</td>\n",
       "      <td>-1.1</td>\n",
       "      <td>1023.2</td>\n",
       "      <td>-18.2</td>\n",
       "      <td>0.0</td>\n",
       "      <td>N</td>\n",
       "      <td>4.7</td>\n",
       "      <td>Aotizhongxin</td>\n",
       "    </tr>\n",
       "    <tr>\n",
       "      <th>2</th>\n",
       "      <td>3</td>\n",
       "      <td>2013</td>\n",
       "      <td>3</td>\n",
       "      <td>1</td>\n",
       "      <td>2</td>\n",
       "      <td>7.0</td>\n",
       "      <td>7.0</td>\n",
       "      <td>5.0</td>\n",
       "      <td>10.0</td>\n",
       "      <td>300.0</td>\n",
       "      <td>73.0</td>\n",
       "      <td>-1.1</td>\n",
       "      <td>1023.5</td>\n",
       "      <td>-18.2</td>\n",
       "      <td>0.0</td>\n",
       "      <td>NNW</td>\n",
       "      <td>5.6</td>\n",
       "      <td>Aotizhongxin</td>\n",
       "    </tr>\n",
       "    <tr>\n",
       "      <th>3</th>\n",
       "      <td>4</td>\n",
       "      <td>2013</td>\n",
       "      <td>3</td>\n",
       "      <td>1</td>\n",
       "      <td>3</td>\n",
       "      <td>6.0</td>\n",
       "      <td>6.0</td>\n",
       "      <td>11.0</td>\n",
       "      <td>11.0</td>\n",
       "      <td>300.0</td>\n",
       "      <td>72.0</td>\n",
       "      <td>-1.4</td>\n",
       "      <td>1024.5</td>\n",
       "      <td>-19.4</td>\n",
       "      <td>0.0</td>\n",
       "      <td>NW</td>\n",
       "      <td>3.1</td>\n",
       "      <td>Aotizhongxin</td>\n",
       "    </tr>\n",
       "    <tr>\n",
       "      <th>4</th>\n",
       "      <td>5</td>\n",
       "      <td>2013</td>\n",
       "      <td>3</td>\n",
       "      <td>1</td>\n",
       "      <td>4</td>\n",
       "      <td>3.0</td>\n",
       "      <td>3.0</td>\n",
       "      <td>12.0</td>\n",
       "      <td>12.0</td>\n",
       "      <td>300.0</td>\n",
       "      <td>72.0</td>\n",
       "      <td>-2.0</td>\n",
       "      <td>1025.2</td>\n",
       "      <td>-19.5</td>\n",
       "      <td>0.0</td>\n",
       "      <td>N</td>\n",
       "      <td>2.0</td>\n",
       "      <td>Aotizhongxin</td>\n",
       "    </tr>\n",
       "  </tbody>\n",
       "</table>\n",
       "</div>"
      ],
      "text/plain": [
       "   REF_NO  year  month  day  hour  PM2.5  PM10   SO2   NO2     CO    O3  TEMP  \\\n",
       "0       1  2013      3    1     0    4.0   4.0   4.0   7.0  300.0  77.0  -0.7   \n",
       "1       2  2013      3    1     1    8.0   8.0   4.0   7.0  300.0  77.0  -1.1   \n",
       "2       3  2013      3    1     2    7.0   7.0   5.0  10.0  300.0  73.0  -1.1   \n",
       "3       4  2013      3    1     3    6.0   6.0  11.0  11.0  300.0  72.0  -1.4   \n",
       "4       5  2013      3    1     4    3.0   3.0  12.0  12.0  300.0  72.0  -2.0   \n",
       "\n",
       "     PRES  DEWP  RAIN   wd  WSPM       station  \n",
       "0  1023.0 -18.8   0.0  NNW   4.4  Aotizhongxin  \n",
       "1  1023.2 -18.2   0.0    N   4.7  Aotizhongxin  \n",
       "2  1023.5 -18.2   0.0  NNW   5.6  Aotizhongxin  \n",
       "3  1024.5 -19.4   0.0   NW   3.1  Aotizhongxin  \n",
       "4  1025.2 -19.5   0.0    N   2.0  Aotizhongxin  "
      ]
     },
     "execution_count": 4,
     "metadata": {},
     "output_type": "execute_result"
    }
   ],
   "source": [
    "train_data.head()"
   ]
  },
  {
   "cell_type": "code",
   "execution_count": 5,
   "metadata": {},
   "outputs": [
    {
     "name": "stdout",
     "output_type": "stream",
     "text": [
      "<class 'pandas.core.frame.DataFrame'>\n",
      "RangeIndex: 403776 entries, 0 to 403775\n",
      "Data columns (total 18 columns):\n",
      " #   Column   Non-Null Count   Dtype  \n",
      "---  ------   --------------   -----  \n",
      " 0   REF_NO   403776 non-null  int64  \n",
      " 1   year     403776 non-null  int64  \n",
      " 2   month    403776 non-null  int64  \n",
      " 3   day      403776 non-null  int64  \n",
      " 4   hour     403776 non-null  int64  \n",
      " 5   PM2.5    395301 non-null  float64\n",
      " 6   PM10     397554 non-null  float64\n",
      " 7   SO2      395000 non-null  float64\n",
      " 8   NO2      391917 non-null  float64\n",
      " 9   CO       383515 non-null  float64\n",
      " 10  O3       390769 non-null  float64\n",
      " 11  TEMP     403512 non-null  float64\n",
      " 12  PRES     403511 non-null  float64\n",
      " 13  DEWP     403507 non-null  float64\n",
      " 14  RAIN     403515 non-null  float64\n",
      " 15  wd       402387 non-null  object \n",
      " 16  WSPM     403538 non-null  float64\n",
      " 17  station  403776 non-null  object \n",
      "dtypes: float64(11), int64(5), object(2)\n",
      "memory usage: 55.5+ MB\n"
     ]
    }
   ],
   "source": [
    "train_data.info()"
   ]
  },
  {
   "cell_type": "code",
   "execution_count": 6,
   "metadata": {},
   "outputs": [
    {
     "data": {
      "text/html": [
       "<div>\n",
       "<style scoped>\n",
       "    .dataframe tbody tr th:only-of-type {\n",
       "        vertical-align: middle;\n",
       "    }\n",
       "\n",
       "    .dataframe tbody tr th {\n",
       "        vertical-align: top;\n",
       "    }\n",
       "\n",
       "    .dataframe thead th {\n",
       "        text-align: right;\n",
       "    }\n",
       "</style>\n",
       "<table border=\"1\" class=\"dataframe\">\n",
       "  <thead>\n",
       "    <tr style=\"text-align: right;\">\n",
       "      <th></th>\n",
       "      <th>REF_NO</th>\n",
       "      <th>year</th>\n",
       "      <th>month</th>\n",
       "      <th>day</th>\n",
       "      <th>hour</th>\n",
       "      <th>PM2.5</th>\n",
       "      <th>PM10</th>\n",
       "      <th>SO2</th>\n",
       "      <th>NO2</th>\n",
       "      <th>CO</th>\n",
       "      <th>O3</th>\n",
       "      <th>TEMP</th>\n",
       "      <th>PRES</th>\n",
       "      <th>DEWP</th>\n",
       "      <th>RAIN</th>\n",
       "      <th>WSPM</th>\n",
       "    </tr>\n",
       "  </thead>\n",
       "  <tbody>\n",
       "    <tr>\n",
       "      <th>count</th>\n",
       "      <td>403776.000000</td>\n",
       "      <td>403776.000000</td>\n",
       "      <td>403776.000000</td>\n",
       "      <td>403776.000000</td>\n",
       "      <td>403776.000000</td>\n",
       "      <td>395301.000000</td>\n",
       "      <td>397554.000000</td>\n",
       "      <td>395000.000000</td>\n",
       "      <td>391917.000000</td>\n",
       "      <td>383515.000000</td>\n",
       "      <td>390769.000000</td>\n",
       "      <td>403512.000000</td>\n",
       "      <td>403511.000000</td>\n",
       "      <td>403507.000000</td>\n",
       "      <td>403515.000000</td>\n",
       "      <td>403538.000000</td>\n",
       "    </tr>\n",
       "    <tr>\n",
       "      <th>mean</th>\n",
       "      <td>16824.500000</td>\n",
       "      <td>2014.564194</td>\n",
       "      <td>6.735378</td>\n",
       "      <td>15.748217</td>\n",
       "      <td>11.500000</td>\n",
       "      <td>79.248275</td>\n",
       "      <td>104.327897</td>\n",
       "      <td>15.733060</td>\n",
       "      <td>50.352785</td>\n",
       "      <td>1214.843339</td>\n",
       "      <td>58.119327</td>\n",
       "      <td>14.088899</td>\n",
       "      <td>1010.282534</td>\n",
       "      <td>3.157291</td>\n",
       "      <td>0.067052</td>\n",
       "      <td>1.718380</td>\n",
       "    </tr>\n",
       "    <tr>\n",
       "      <th>std</th>\n",
       "      <td>9713.352953</td>\n",
       "      <td>1.097503</td>\n",
       "      <td>3.356479</td>\n",
       "      <td>8.808891</td>\n",
       "      <td>6.922195</td>\n",
       "      <td>79.146708</td>\n",
       "      <td>90.136400</td>\n",
       "      <td>21.739455</td>\n",
       "      <td>34.771910</td>\n",
       "      <td>1124.285676</td>\n",
       "      <td>57.375966</td>\n",
       "      <td>11.303534</td>\n",
       "      <td>10.356778</td>\n",
       "      <td>13.617273</td>\n",
       "      <td>0.837845</td>\n",
       "      <td>1.237965</td>\n",
       "    </tr>\n",
       "    <tr>\n",
       "      <th>min</th>\n",
       "      <td>1.000000</td>\n",
       "      <td>2013.000000</td>\n",
       "      <td>1.000000</td>\n",
       "      <td>1.000000</td>\n",
       "      <td>0.000000</td>\n",
       "      <td>2.000000</td>\n",
       "      <td>2.000000</td>\n",
       "      <td>0.285600</td>\n",
       "      <td>1.026500</td>\n",
       "      <td>100.000000</td>\n",
       "      <td>0.214200</td>\n",
       "      <td>-19.900000</td>\n",
       "      <td>982.400000</td>\n",
       "      <td>-43.400000</td>\n",
       "      <td>0.000000</td>\n",
       "      <td>0.000000</td>\n",
       "    </tr>\n",
       "    <tr>\n",
       "      <th>25%</th>\n",
       "      <td>8412.750000</td>\n",
       "      <td>2014.000000</td>\n",
       "      <td>4.000000</td>\n",
       "      <td>8.000000</td>\n",
       "      <td>5.750000</td>\n",
       "      <td>21.000000</td>\n",
       "      <td>36.000000</td>\n",
       "      <td>2.000000</td>\n",
       "      <td>23.000000</td>\n",
       "      <td>500.000000</td>\n",
       "      <td>11.000000</td>\n",
       "      <td>4.000000</td>\n",
       "      <td>1002.000000</td>\n",
       "      <td>-8.000000</td>\n",
       "      <td>0.000000</td>\n",
       "      <td>0.900000</td>\n",
       "    </tr>\n",
       "    <tr>\n",
       "      <th>50%</th>\n",
       "      <td>16824.500000</td>\n",
       "      <td>2015.000000</td>\n",
       "      <td>7.000000</td>\n",
       "      <td>16.000000</td>\n",
       "      <td>11.500000</td>\n",
       "      <td>55.000000</td>\n",
       "      <td>83.000000</td>\n",
       "      <td>7.000000</td>\n",
       "      <td>43.000000</td>\n",
       "      <td>900.000000</td>\n",
       "      <td>45.000000</td>\n",
       "      <td>15.400000</td>\n",
       "      <td>1009.800000</td>\n",
       "      <td>4.200000</td>\n",
       "      <td>0.000000</td>\n",
       "      <td>1.400000</td>\n",
       "    </tr>\n",
       "    <tr>\n",
       "      <th>75%</th>\n",
       "      <td>25236.250000</td>\n",
       "      <td>2016.000000</td>\n",
       "      <td>10.000000</td>\n",
       "      <td>23.000000</td>\n",
       "      <td>17.250000</td>\n",
       "      <td>110.000000</td>\n",
       "      <td>145.000000</td>\n",
       "      <td>19.000000</td>\n",
       "      <td>71.000000</td>\n",
       "      <td>1500.000000</td>\n",
       "      <td>83.000000</td>\n",
       "      <td>23.500000</td>\n",
       "      <td>1018.300000</td>\n",
       "      <td>15.500000</td>\n",
       "      <td>0.000000</td>\n",
       "      <td>2.200000</td>\n",
       "    </tr>\n",
       "    <tr>\n",
       "      <th>max</th>\n",
       "      <td>33648.000000</td>\n",
       "      <td>2016.000000</td>\n",
       "      <td>12.000000</td>\n",
       "      <td>31.000000</td>\n",
       "      <td>23.000000</td>\n",
       "      <td>999.000000</td>\n",
       "      <td>999.000000</td>\n",
       "      <td>500.000000</td>\n",
       "      <td>290.000000</td>\n",
       "      <td>10000.000000</td>\n",
       "      <td>1071.000000</td>\n",
       "      <td>41.600000</td>\n",
       "      <td>1042.800000</td>\n",
       "      <td>29.100000</td>\n",
       "      <td>72.500000</td>\n",
       "      <td>13.200000</td>\n",
       "    </tr>\n",
       "  </tbody>\n",
       "</table>\n",
       "</div>"
      ],
      "text/plain": [
       "              REF_NO           year          month            day  \\\n",
       "count  403776.000000  403776.000000  403776.000000  403776.000000   \n",
       "mean    16824.500000    2014.564194       6.735378      15.748217   \n",
       "std      9713.352953       1.097503       3.356479       8.808891   \n",
       "min         1.000000    2013.000000       1.000000       1.000000   \n",
       "25%      8412.750000    2014.000000       4.000000       8.000000   \n",
       "50%     16824.500000    2015.000000       7.000000      16.000000   \n",
       "75%     25236.250000    2016.000000      10.000000      23.000000   \n",
       "max     33648.000000    2016.000000      12.000000      31.000000   \n",
       "\n",
       "                hour          PM2.5           PM10            SO2  \\\n",
       "count  403776.000000  395301.000000  397554.000000  395000.000000   \n",
       "mean       11.500000      79.248275     104.327897      15.733060   \n",
       "std         6.922195      79.146708      90.136400      21.739455   \n",
       "min         0.000000       2.000000       2.000000       0.285600   \n",
       "25%         5.750000      21.000000      36.000000       2.000000   \n",
       "50%        11.500000      55.000000      83.000000       7.000000   \n",
       "75%        17.250000     110.000000     145.000000      19.000000   \n",
       "max        23.000000     999.000000     999.000000     500.000000   \n",
       "\n",
       "                 NO2             CO             O3           TEMP  \\\n",
       "count  391917.000000  383515.000000  390769.000000  403512.000000   \n",
       "mean       50.352785    1214.843339      58.119327      14.088899   \n",
       "std        34.771910    1124.285676      57.375966      11.303534   \n",
       "min         1.026500     100.000000       0.214200     -19.900000   \n",
       "25%        23.000000     500.000000      11.000000       4.000000   \n",
       "50%        43.000000     900.000000      45.000000      15.400000   \n",
       "75%        71.000000    1500.000000      83.000000      23.500000   \n",
       "max       290.000000   10000.000000    1071.000000      41.600000   \n",
       "\n",
       "                PRES           DEWP           RAIN           WSPM  \n",
       "count  403511.000000  403507.000000  403515.000000  403538.000000  \n",
       "mean     1010.282534       3.157291       0.067052       1.718380  \n",
       "std        10.356778      13.617273       0.837845       1.237965  \n",
       "min       982.400000     -43.400000       0.000000       0.000000  \n",
       "25%      1002.000000      -8.000000       0.000000       0.900000  \n",
       "50%      1009.800000       4.200000       0.000000       1.400000  \n",
       "75%      1018.300000      15.500000       0.000000       2.200000  \n",
       "max      1042.800000      29.100000      72.500000      13.200000  "
      ]
     },
     "execution_count": 6,
     "metadata": {},
     "output_type": "execute_result"
    }
   ],
   "source": [
    "train_data.describe()"
   ]
  },
  {
   "cell_type": "code",
   "execution_count": 7,
   "metadata": {},
   "outputs": [
    {
     "data": {
      "text/plain": [
       "REF_NO     33648\n",
       "year           4\n",
       "month         12\n",
       "day           31\n",
       "hour          24\n",
       "PM2.5        866\n",
       "PM10        1048\n",
       "SO2          685\n",
       "NO2         1209\n",
       "CO           132\n",
       "O3          1597\n",
       "TEMP        1187\n",
       "PRES         676\n",
       "DEWP         645\n",
       "RAIN         253\n",
       "wd            16\n",
       "WSPM         115\n",
       "station       12\n",
       "dtype: int64"
      ]
     },
     "execution_count": 7,
     "metadata": {},
     "output_type": "execute_result"
    }
   ],
   "source": [
    "train_data.nunique()"
   ]
  },
  {
   "cell_type": "markdown",
   "metadata": {},
   "source": [
    "# Profiling of Data"
   ]
  },
  {
   "cell_type": "code",
   "execution_count": 8,
   "metadata": {},
   "outputs": [],
   "source": [
    "from pandas_profiling import profile_report\n",
    "#PR = train_data.profile_report(title='PR_Airpollution')\n",
    "#PR.to_file('PR_Airpollution.html')"
   ]
  },
  {
   "cell_type": "markdown",
   "metadata": {},
   "source": [
    "# Dataset Information\n",
    "\n",
    "- Number of variables\t18\n",
    "- Number of observations\t403776\n",
    "- Missing cells\t71286\n",
    "\n",
    "## Variable Types\n",
    "\n",
    "- Numeric\t15\n",
    "- Categorical\t3\n",
    "\n",
    "## Dataset Information\n",
    "- 1 REF_NO -  Index of Rows\n",
    "- 2 year -  Data from 2013 to 2016 . No Missing Values \n",
    "- 3 month - Lesser Number of data for Month of January and February\n",
    "- 4 Day - Day of the Month. No Missing Values\n",
    "- 5 hour -  Hour of the Day. No Missing Values\n",
    "- 6 PM2.5 - Target Variable. Missing Values 2.1% -  8475\n",
    "- 7 PM10 -  Left Skewed . Missing Values - 1.5%\n",
    "- 8 SO2 - Missing Values - 2% Left Skewed. Outliers. Range - 500\n",
    "- 9 NO2 - Missing Values - 2.9%. Range - 290.Some Outliers\n",
    "- 10 CO - Missing Values -  5%. Range -9900. Some Outliers\n",
    "- 11 O3 - Missing Values -  3.2%. Range - 1070. Some Outliers\n",
    "- 12 TEMP -  Missing Values - 0.1% Range - 61.5. Some Outliers\n",
    "- 13 PRES - Missing Values - 0.1%. Range - 60.4. Noramally Distributed\n",
    "- 14 DEWP - Missing Values - 0.1% Range -  72.5. \n",
    "- 15 Rain - Only 5% there was rain. 95% was not rain.\n",
    "- 16 wd - Categorical Variable -  Wind Direction 1389 Missing Values \n",
    "- 17 WSPM - Missing - 0.1% , Slightly Left Skewed\n",
    "- 18 Station - Cateogirical Variable - No Missing Values"
   ]
  },
  {
   "cell_type": "markdown",
   "metadata": {},
   "source": [
    "# Data Pre Processing"
   ]
  },
  {
   "cell_type": "markdown",
   "metadata": {},
   "source": [
    "### 1 -  Target Variable Missing Values  Not Accepted, hence needs to removed"
   ]
  },
  {
   "cell_type": "code",
   "execution_count": 9,
   "metadata": {},
   "outputs": [
    {
     "data": {
      "text/plain": [
       "REF_NO         0\n",
       "year           0\n",
       "month          0\n",
       "day            0\n",
       "hour           0\n",
       "PM2.5       8475\n",
       "PM10        6222\n",
       "SO2         8776\n",
       "NO2        11859\n",
       "CO         20261\n",
       "O3         13007\n",
       "TEMP         264\n",
       "PRES         265\n",
       "DEWP         269\n",
       "RAIN         261\n",
       "wd          1389\n",
       "WSPM         238\n",
       "station        0\n",
       "dtype: int64"
      ]
     },
     "execution_count": 9,
     "metadata": {},
     "output_type": "execute_result"
    }
   ],
   "source": [
    "train_data.isnull().sum()"
   ]
  },
  {
   "cell_type": "code",
   "execution_count": 10,
   "metadata": {},
   "outputs": [],
   "source": [
    "train_data1 = train_data.copy()"
   ]
  },
  {
   "cell_type": "code",
   "execution_count": 11,
   "metadata": {},
   "outputs": [
    {
     "name": "stdout",
     "output_type": "stream",
     "text": [
      "<class 'pandas.core.frame.DataFrame'>\n",
      "RangeIndex: 403776 entries, 0 to 403775\n",
      "Data columns (total 18 columns):\n",
      " #   Column   Non-Null Count   Dtype  \n",
      "---  ------   --------------   -----  \n",
      " 0   REF_NO   403776 non-null  int64  \n",
      " 1   year     403776 non-null  int64  \n",
      " 2   month    403776 non-null  int64  \n",
      " 3   day      403776 non-null  int64  \n",
      " 4   hour     403776 non-null  int64  \n",
      " 5   PM2.5    395301 non-null  float64\n",
      " 6   PM10     397554 non-null  float64\n",
      " 7   SO2      395000 non-null  float64\n",
      " 8   NO2      391917 non-null  float64\n",
      " 9   CO       383515 non-null  float64\n",
      " 10  O3       390769 non-null  float64\n",
      " 11  TEMP     403512 non-null  float64\n",
      " 12  PRES     403511 non-null  float64\n",
      " 13  DEWP     403507 non-null  float64\n",
      " 14  RAIN     403515 non-null  float64\n",
      " 15  wd       402387 non-null  object \n",
      " 16  WSPM     403538 non-null  float64\n",
      " 17  station  403776 non-null  object \n",
      "dtypes: float64(11), int64(5), object(2)\n",
      "memory usage: 55.5+ MB\n"
     ]
    }
   ],
   "source": [
    "train_data1.info()"
   ]
  },
  {
   "cell_type": "code",
   "execution_count": 12,
   "metadata": {},
   "outputs": [],
   "source": [
    "train_data1.dropna(axis = 0,subset=['PM2.5'], inplace=True)"
   ]
  },
  {
   "cell_type": "markdown",
   "metadata": {},
   "source": [
    "### 2 - Imputing other NA Values using Fill NA method (Median) and for categorical Variable Mode"
   ]
  },
  {
   "cell_type": "code",
   "execution_count": 13,
   "metadata": {},
   "outputs": [],
   "source": [
    "MissinValues = (train_data1.columns[train_data1.isnull().sum()>0]).drop('wd')"
   ]
  },
  {
   "cell_type": "code",
   "execution_count": 14,
   "metadata": {},
   "outputs": [],
   "source": [
    "for i in MissinValues:\n",
    "    train_data1[i].fillna(train_data1[i].median(),inplace=True)"
   ]
  },
  {
   "cell_type": "code",
   "execution_count": 15,
   "metadata": {},
   "outputs": [
    {
     "data": {
      "text/plain": [
       "REF_NO     0.000000\n",
       "year       0.000000\n",
       "month      0.000000\n",
       "day        0.000000\n",
       "hour       0.000000\n",
       "PM2.5      0.000000\n",
       "PM10       0.000000\n",
       "SO2        0.000000\n",
       "NO2        0.000000\n",
       "CO         0.000000\n",
       "O3         0.000000\n",
       "TEMP       0.000000\n",
       "PRES       0.000000\n",
       "DEWP       0.000000\n",
       "RAIN       0.000000\n",
       "wd         0.345559\n",
       "WSPM       0.000000\n",
       "station    0.000000\n",
       "dtype: float64"
      ]
     },
     "execution_count": 15,
     "metadata": {},
     "output_type": "execute_result"
    }
   ],
   "source": [
    "train_data1.isnull().sum()/len(train_data1)*100"
   ]
  },
  {
   "cell_type": "code",
   "execution_count": 16,
   "metadata": {},
   "outputs": [],
   "source": [
    "train_data1['wd'].fillna(train_data1['wd'].mode()[0], inplace=True)# Filling Categorical Variable with type"
   ]
  },
  {
   "cell_type": "code",
   "execution_count": 17,
   "metadata": {},
   "outputs": [
    {
     "data": {
      "text/plain": [
       "REF_NO     0.0\n",
       "year       0.0\n",
       "month      0.0\n",
       "day        0.0\n",
       "hour       0.0\n",
       "PM2.5      0.0\n",
       "PM10       0.0\n",
       "SO2        0.0\n",
       "NO2        0.0\n",
       "CO         0.0\n",
       "O3         0.0\n",
       "TEMP       0.0\n",
       "PRES       0.0\n",
       "DEWP       0.0\n",
       "RAIN       0.0\n",
       "wd         0.0\n",
       "WSPM       0.0\n",
       "station    0.0\n",
       "dtype: float64"
      ]
     },
     "execution_count": 17,
     "metadata": {},
     "output_type": "execute_result"
    }
   ],
   "source": [
    "train_data1.isnull().sum()/len(train_data1)*100"
   ]
  },
  {
   "cell_type": "code",
   "execution_count": 18,
   "metadata": {
    "scrolled": true
   },
   "outputs": [
    {
     "data": {
      "text/html": [
       "<div>\n",
       "<style scoped>\n",
       "    .dataframe tbody tr th:only-of-type {\n",
       "        vertical-align: middle;\n",
       "    }\n",
       "\n",
       "    .dataframe tbody tr th {\n",
       "        vertical-align: top;\n",
       "    }\n",
       "\n",
       "    .dataframe thead th {\n",
       "        text-align: right;\n",
       "    }\n",
       "</style>\n",
       "<table border=\"1\" class=\"dataframe\">\n",
       "  <thead>\n",
       "    <tr style=\"text-align: right;\">\n",
       "      <th></th>\n",
       "      <th>REF_NO</th>\n",
       "      <th>year</th>\n",
       "      <th>month</th>\n",
       "      <th>day</th>\n",
       "      <th>hour</th>\n",
       "      <th>PM2.5</th>\n",
       "      <th>PM10</th>\n",
       "      <th>SO2</th>\n",
       "      <th>NO2</th>\n",
       "      <th>CO</th>\n",
       "      <th>O3</th>\n",
       "      <th>TEMP</th>\n",
       "      <th>PRES</th>\n",
       "      <th>DEWP</th>\n",
       "      <th>RAIN</th>\n",
       "      <th>WSPM</th>\n",
       "    </tr>\n",
       "  </thead>\n",
       "  <tbody>\n",
       "    <tr>\n",
       "      <th>count</th>\n",
       "      <td>395301.000000</td>\n",
       "      <td>395301.000000</td>\n",
       "      <td>395301.000000</td>\n",
       "      <td>395301.000000</td>\n",
       "      <td>395301.000000</td>\n",
       "      <td>395301.000000</td>\n",
       "      <td>395301.000000</td>\n",
       "      <td>395301.000000</td>\n",
       "      <td>395301.000000</td>\n",
       "      <td>395301.000000</td>\n",
       "      <td>395301.000000</td>\n",
       "      <td>395301.000000</td>\n",
       "      <td>395301.000000</td>\n",
       "      <td>395301.000000</td>\n",
       "      <td>395301.000000</td>\n",
       "      <td>395301.000000</td>\n",
       "    </tr>\n",
       "    <tr>\n",
       "      <th>mean</th>\n",
       "      <td>16807.511489</td>\n",
       "      <td>2014.562604</td>\n",
       "      <td>6.731033</td>\n",
       "      <td>15.752821</td>\n",
       "      <td>11.488273</td>\n",
       "      <td>79.248275</td>\n",
       "      <td>104.404256</td>\n",
       "      <td>15.665208</td>\n",
       "      <td>50.296538</td>\n",
       "      <td>1204.065436</td>\n",
       "      <td>57.704713</td>\n",
       "      <td>14.045459</td>\n",
       "      <td>1010.312777</td>\n",
       "      <td>3.129933</td>\n",
       "      <td>0.066546</td>\n",
       "      <td>1.714839</td>\n",
       "    </tr>\n",
       "    <tr>\n",
       "      <th>std</th>\n",
       "      <td>9722.088626</td>\n",
       "      <td>1.098917</td>\n",
       "      <td>3.359932</td>\n",
       "      <td>8.804698</td>\n",
       "      <td>6.933325</td>\n",
       "      <td>79.146708</td>\n",
       "      <td>90.107065</td>\n",
       "      <td>21.626685</td>\n",
       "      <td>34.507541</td>\n",
       "      <td>1105.639912</td>\n",
       "      <td>56.762551</td>\n",
       "      <td>11.299262</td>\n",
       "      <td>10.348381</td>\n",
       "      <td>13.622556</td>\n",
       "      <td>0.834738</td>\n",
       "      <td>1.235945</td>\n",
       "    </tr>\n",
       "    <tr>\n",
       "      <th>min</th>\n",
       "      <td>1.000000</td>\n",
       "      <td>2013.000000</td>\n",
       "      <td>1.000000</td>\n",
       "      <td>1.000000</td>\n",
       "      <td>0.000000</td>\n",
       "      <td>2.000000</td>\n",
       "      <td>2.000000</td>\n",
       "      <td>0.285600</td>\n",
       "      <td>1.026500</td>\n",
       "      <td>100.000000</td>\n",
       "      <td>0.214200</td>\n",
       "      <td>-19.900000</td>\n",
       "      <td>982.400000</td>\n",
       "      <td>-43.400000</td>\n",
       "      <td>0.000000</td>\n",
       "      <td>0.000000</td>\n",
       "    </tr>\n",
       "    <tr>\n",
       "      <th>25%</th>\n",
       "      <td>8360.000000</td>\n",
       "      <td>2014.000000</td>\n",
       "      <td>4.000000</td>\n",
       "      <td>8.000000</td>\n",
       "      <td>5.000000</td>\n",
       "      <td>21.000000</td>\n",
       "      <td>36.000000</td>\n",
       "      <td>2.000000</td>\n",
       "      <td>23.000000</td>\n",
       "      <td>500.000000</td>\n",
       "      <td>11.000000</td>\n",
       "      <td>4.000000</td>\n",
       "      <td>1002.000000</td>\n",
       "      <td>-8.100000</td>\n",
       "      <td>0.000000</td>\n",
       "      <td>0.900000</td>\n",
       "    </tr>\n",
       "    <tr>\n",
       "      <th>50%</th>\n",
       "      <td>16822.000000</td>\n",
       "      <td>2015.000000</td>\n",
       "      <td>7.000000</td>\n",
       "      <td>16.000000</td>\n",
       "      <td>11.000000</td>\n",
       "      <td>55.000000</td>\n",
       "      <td>83.000000</td>\n",
       "      <td>7.000000</td>\n",
       "      <td>43.000000</td>\n",
       "      <td>900.000000</td>\n",
       "      <td>45.000000</td>\n",
       "      <td>15.300000</td>\n",
       "      <td>1009.800000</td>\n",
       "      <td>4.100000</td>\n",
       "      <td>0.000000</td>\n",
       "      <td>1.400000</td>\n",
       "    </tr>\n",
       "    <tr>\n",
       "      <th>75%</th>\n",
       "      <td>25228.000000</td>\n",
       "      <td>2016.000000</td>\n",
       "      <td>10.000000</td>\n",
       "      <td>23.000000</td>\n",
       "      <td>18.000000</td>\n",
       "      <td>110.000000</td>\n",
       "      <td>145.000000</td>\n",
       "      <td>19.000000</td>\n",
       "      <td>70.000000</td>\n",
       "      <td>1500.000000</td>\n",
       "      <td>82.000000</td>\n",
       "      <td>23.500000</td>\n",
       "      <td>1018.300000</td>\n",
       "      <td>15.500000</td>\n",
       "      <td>0.000000</td>\n",
       "      <td>2.200000</td>\n",
       "    </tr>\n",
       "    <tr>\n",
       "      <th>max</th>\n",
       "      <td>33648.000000</td>\n",
       "      <td>2016.000000</td>\n",
       "      <td>12.000000</td>\n",
       "      <td>31.000000</td>\n",
       "      <td>23.000000</td>\n",
       "      <td>999.000000</td>\n",
       "      <td>999.000000</td>\n",
       "      <td>500.000000</td>\n",
       "      <td>290.000000</td>\n",
       "      <td>10000.000000</td>\n",
       "      <td>1071.000000</td>\n",
       "      <td>41.600000</td>\n",
       "      <td>1042.800000</td>\n",
       "      <td>29.100000</td>\n",
       "      <td>72.500000</td>\n",
       "      <td>13.200000</td>\n",
       "    </tr>\n",
       "  </tbody>\n",
       "</table>\n",
       "</div>"
      ],
      "text/plain": [
       "              REF_NO           year          month            day  \\\n",
       "count  395301.000000  395301.000000  395301.000000  395301.000000   \n",
       "mean    16807.511489    2014.562604       6.731033      15.752821   \n",
       "std      9722.088626       1.098917       3.359932       8.804698   \n",
       "min         1.000000    2013.000000       1.000000       1.000000   \n",
       "25%      8360.000000    2014.000000       4.000000       8.000000   \n",
       "50%     16822.000000    2015.000000       7.000000      16.000000   \n",
       "75%     25228.000000    2016.000000      10.000000      23.000000   \n",
       "max     33648.000000    2016.000000      12.000000      31.000000   \n",
       "\n",
       "                hour          PM2.5           PM10            SO2  \\\n",
       "count  395301.000000  395301.000000  395301.000000  395301.000000   \n",
       "mean       11.488273      79.248275     104.404256      15.665208   \n",
       "std         6.933325      79.146708      90.107065      21.626685   \n",
       "min         0.000000       2.000000       2.000000       0.285600   \n",
       "25%         5.000000      21.000000      36.000000       2.000000   \n",
       "50%        11.000000      55.000000      83.000000       7.000000   \n",
       "75%        18.000000     110.000000     145.000000      19.000000   \n",
       "max        23.000000     999.000000     999.000000     500.000000   \n",
       "\n",
       "                 NO2             CO             O3           TEMP  \\\n",
       "count  395301.000000  395301.000000  395301.000000  395301.000000   \n",
       "mean       50.296538    1204.065436      57.704713      14.045459   \n",
       "std        34.507541    1105.639912      56.762551      11.299262   \n",
       "min         1.026500     100.000000       0.214200     -19.900000   \n",
       "25%        23.000000     500.000000      11.000000       4.000000   \n",
       "50%        43.000000     900.000000      45.000000      15.300000   \n",
       "75%        70.000000    1500.000000      82.000000      23.500000   \n",
       "max       290.000000   10000.000000    1071.000000      41.600000   \n",
       "\n",
       "                PRES           DEWP           RAIN           WSPM  \n",
       "count  395301.000000  395301.000000  395301.000000  395301.000000  \n",
       "mean     1010.312777       3.129933       0.066546       1.714839  \n",
       "std        10.348381      13.622556       0.834738       1.235945  \n",
       "min       982.400000     -43.400000       0.000000       0.000000  \n",
       "25%      1002.000000      -8.100000       0.000000       0.900000  \n",
       "50%      1009.800000       4.100000       0.000000       1.400000  \n",
       "75%      1018.300000      15.500000       0.000000       2.200000  \n",
       "max      1042.800000      29.100000      72.500000      13.200000  "
      ]
     },
     "execution_count": 18,
     "metadata": {},
     "output_type": "execute_result"
    }
   ],
   "source": [
    "train_data1.describe()"
   ]
  },
  {
   "cell_type": "code",
   "execution_count": null,
   "metadata": {},
   "outputs": [],
   "source": []
  },
  {
   "cell_type": "code",
   "execution_count": 19,
   "metadata": {},
   "outputs": [],
   "source": [
    "\n",
    "def remove_outlier(df_in, col_name):\n",
    "    Q1 = df_in[col_name].quantile(0.25)# Calculate quantile 1 using quantile(0.25)\n",
    "    Q3 = df_in[col_name].quantile(0.75)# Calculate quantile 3\n",
    "    IQR = Q3-Q1# Calculate IQR as difference of Quantile 3 and quantile \n",
    "    LowerBound = df_in[col_name].min()# Find the lower bound using the min() function\n",
    "    UpperBound = Q3+1.5*IQR# Find the upper bound as quantile3 + 1.5*IQR\n",
    "    print(LowerBound,UpperBound)# Print the lower and upper bound of the column\n",
    "    df_out = df_in.loc[(df_in[col_name] >= LowerBound) & (df_in[col_name] <= UpperBound)]    # Remove the values lying outside min and upper bound range\n",
    "    return df_out  \n"
   ]
  },
  {
   "cell_type": "code",
   "execution_count": 20,
   "metadata": {},
   "outputs": [],
   "source": [
    "# Removing Outliers from PM10,SO2,NO2,CO,O3"
   ]
  },
  {
   "cell_type": "code",
   "execution_count": 21,
   "metadata": {},
   "outputs": [
    {
     "name": "stdout",
     "output_type": "stream",
     "text": [
      "2.0 308.5\n",
      "0.2856 42.0\n",
      "1.0265 122.0\n",
      "100.0 2250.0\n",
      "0.2142 188.1615\n"
     ]
    }
   ],
   "source": [
    "# 1 - PM10\n",
    "def log(train_data1):\n",
    "    df_out = remove_outlier(train_data1,'PM10')# your code to remove the outlier from age\n",
    "    return df_out\n",
    "train_data1 = log(train_data1) \n",
    "\n",
    "#2 - SO2\n",
    "def log(train_data1):\n",
    "    df_out = remove_outlier(train_data1,'SO2')\n",
    "    return df_out\n",
    "train_data1 = log(train_data1) \n",
    "\n",
    "#3 - NO2\n",
    "def log(train_data1):\n",
    "    df_out = remove_outlier(train_data1,'NO2')\n",
    "    return df_out\n",
    "train_data1 = log(train_data1) \n",
    "\n",
    "#4 - CO\n",
    "def log(train_data1):\n",
    "    df_out = remove_outlier(train_data1,'CO')\n",
    "    return df_out\n",
    "train_data1 = log(train_data1) \n",
    "\n",
    "#5 - O3\n",
    "def log(train_data1):\n",
    "    df_out = remove_outlier(train_data1,'O3')\n",
    "    return df_out\n",
    "train_data1 = log(train_data1)\n",
    "\n"
   ]
  },
  {
   "cell_type": "markdown",
   "metadata": {},
   "source": [
    "# Feature Engineering"
   ]
  },
  {
   "cell_type": "code",
   "execution_count": 22,
   "metadata": {},
   "outputs": [],
   "source": [
    "train_data1['Date'] = pd.to_datetime(train_data1[['year','month','day','hour']])"
   ]
  },
  {
   "cell_type": "markdown",
   "metadata": {},
   "source": [
    "# EDA"
   ]
  },
  {
   "cell_type": "code",
   "execution_count": 23,
   "metadata": {},
   "outputs": [
    {
     "data": {
      "text/plain": [
       "Index(['REF_NO', 'year', 'month', 'day', 'hour', 'PM2.5', 'PM10', 'SO2', 'NO2',\n",
       "       'CO', 'O3', 'TEMP', 'PRES', 'DEWP', 'RAIN', 'wd', 'WSPM', 'station',\n",
       "       'Date'],\n",
       "      dtype='object')"
      ]
     },
     "execution_count": 23,
     "metadata": {},
     "output_type": "execute_result"
    }
   ],
   "source": [
    "train_data1.columns"
   ]
  },
  {
   "cell_type": "code",
   "execution_count": 24,
   "metadata": {},
   "outputs": [
    {
     "data": {
      "text/plain": [
       "station\n",
       "Aotizhongxin     82.260952\n",
       "Changping        70.716012\n",
       "Dingling         65.887825\n",
       "Dongsi           85.465989\n",
       "Guanyuan         82.515756\n",
       "Gucheng          83.110626\n",
       "Huairou          69.427838\n",
       "Nongzhanguan     84.129369\n",
       "Shunyi           78.802831\n",
       "Tiantan          81.479200\n",
       "Wanliu           82.920469\n",
       "Wanshouxigong    84.086340\n",
       "Name: PM2.5, dtype: float64"
      ]
     },
     "execution_count": 24,
     "metadata": {},
     "output_type": "execute_result"
    }
   ],
   "source": [
    "train_data.groupby(['station'])['PM2.5'].mean()"
   ]
  },
  {
   "cell_type": "markdown",
   "metadata": {},
   "source": [
    "### Q1 - Year on Year Average Main Parameters Description"
   ]
  },
  {
   "cell_type": "code",
   "execution_count": 25,
   "metadata": {
    "scrolled": true
   },
   "outputs": [
    {
     "data": {
      "text/html": [
       "<div>\n",
       "<style scoped>\n",
       "    .dataframe tbody tr th:only-of-type {\n",
       "        vertical-align: middle;\n",
       "    }\n",
       "\n",
       "    .dataframe tbody tr th {\n",
       "        vertical-align: top;\n",
       "    }\n",
       "\n",
       "    .dataframe thead th {\n",
       "        text-align: right;\n",
       "    }\n",
       "</style>\n",
       "<table border=\"1\" class=\"dataframe\">\n",
       "  <thead>\n",
       "    <tr style=\"text-align: right;\">\n",
       "      <th></th>\n",
       "      <th>REF_NO</th>\n",
       "      <th>month</th>\n",
       "      <th>day</th>\n",
       "      <th>hour</th>\n",
       "      <th>PM2.5</th>\n",
       "      <th>PM10</th>\n",
       "      <th>SO2</th>\n",
       "      <th>NO2</th>\n",
       "      <th>CO</th>\n",
       "      <th>O3</th>\n",
       "      <th>TEMP</th>\n",
       "      <th>PRES</th>\n",
       "      <th>DEWP</th>\n",
       "      <th>RAIN</th>\n",
       "      <th>WSPM</th>\n",
       "    </tr>\n",
       "    <tr>\n",
       "      <th>year</th>\n",
       "      <th></th>\n",
       "      <th></th>\n",
       "      <th></th>\n",
       "      <th></th>\n",
       "      <th></th>\n",
       "      <th></th>\n",
       "      <th></th>\n",
       "      <th></th>\n",
       "      <th></th>\n",
       "      <th></th>\n",
       "      <th></th>\n",
       "      <th></th>\n",
       "      <th></th>\n",
       "      <th></th>\n",
       "      <th></th>\n",
       "    </tr>\n",
       "  </thead>\n",
       "  <tbody>\n",
       "    <tr>\n",
       "      <th>2013</th>\n",
       "      <td>3704.055416</td>\n",
       "      <td>7.532034</td>\n",
       "      <td>16.140170</td>\n",
       "      <td>11.189953</td>\n",
       "      <td>59.008240</td>\n",
       "      <td>79.198546</td>\n",
       "      <td>11.480252</td>\n",
       "      <td>43.959312</td>\n",
       "      <td>867.923132</td>\n",
       "      <td>53.366555</td>\n",
       "      <td>16.103039</td>\n",
       "      <td>1007.566989</td>\n",
       "      <td>5.666737</td>\n",
       "      <td>0.067779</td>\n",
       "      <td>1.647432</td>\n",
       "    </tr>\n",
       "    <tr>\n",
       "      <th>2014</th>\n",
       "      <td>12009.378714</td>\n",
       "      <td>6.934710</td>\n",
       "      <td>15.257215</td>\n",
       "      <td>11.223309</td>\n",
       "      <td>57.974009</td>\n",
       "      <td>84.548546</td>\n",
       "      <td>10.111490</td>\n",
       "      <td>44.350117</td>\n",
       "      <td>824.765685</td>\n",
       "      <td>58.592417</td>\n",
       "      <td>15.635030</td>\n",
       "      <td>1009.575163</td>\n",
       "      <td>3.849819</td>\n",
       "      <td>0.057801</td>\n",
       "      <td>1.709647</td>\n",
       "    </tr>\n",
       "    <tr>\n",
       "      <th>2015</th>\n",
       "      <td>20492.518287</td>\n",
       "      <td>6.537159</td>\n",
       "      <td>15.781920</td>\n",
       "      <td>11.238873</td>\n",
       "      <td>52.544843</td>\n",
       "      <td>73.909554</td>\n",
       "      <td>7.792402</td>\n",
       "      <td>39.121768</td>\n",
       "      <td>806.592406</td>\n",
       "      <td>58.502523</td>\n",
       "      <td>14.657883</td>\n",
       "      <td>1010.533334</td>\n",
       "      <td>3.373861</td>\n",
       "      <td>0.091905</td>\n",
       "      <td>1.842970</td>\n",
       "    </tr>\n",
       "    <tr>\n",
       "      <th>2016</th>\n",
       "      <td>29168.704216</td>\n",
       "      <td>6.386912</td>\n",
       "      <td>15.971891</td>\n",
       "      <td>11.279140</td>\n",
       "      <td>51.061504</td>\n",
       "      <td>71.406435</td>\n",
       "      <td>6.904115</td>\n",
       "      <td>39.135506</td>\n",
       "      <td>802.611208</td>\n",
       "      <td>55.533142</td>\n",
       "      <td>14.185611</td>\n",
       "      <td>1011.157156</td>\n",
       "      <td>2.254714</td>\n",
       "      <td>0.090265</td>\n",
       "      <td>1.916656</td>\n",
       "    </tr>\n",
       "  </tbody>\n",
       "</table>\n",
       "</div>"
      ],
      "text/plain": [
       "            REF_NO     month        day       hour      PM2.5       PM10  \\\n",
       "year                                                                       \n",
       "2013   3704.055416  7.532034  16.140170  11.189953  59.008240  79.198546   \n",
       "2014  12009.378714  6.934710  15.257215  11.223309  57.974009  84.548546   \n",
       "2015  20492.518287  6.537159  15.781920  11.238873  52.544843  73.909554   \n",
       "2016  29168.704216  6.386912  15.971891  11.279140  51.061504  71.406435   \n",
       "\n",
       "            SO2        NO2          CO         O3       TEMP         PRES  \\\n",
       "year                                                                        \n",
       "2013  11.480252  43.959312  867.923132  53.366555  16.103039  1007.566989   \n",
       "2014  10.111490  44.350117  824.765685  58.592417  15.635030  1009.575163   \n",
       "2015   7.792402  39.121768  806.592406  58.502523  14.657883  1010.533334   \n",
       "2016   6.904115  39.135506  802.611208  55.533142  14.185611  1011.157156   \n",
       "\n",
       "          DEWP      RAIN      WSPM  \n",
       "year                                \n",
       "2013  5.666737  0.067779  1.647432  \n",
       "2014  3.849819  0.057801  1.709647  \n",
       "2015  3.373861  0.091905  1.842970  \n",
       "2016  2.254714  0.090265  1.916656  "
      ]
     },
     "execution_count": 25,
     "metadata": {},
     "output_type": "execute_result"
    }
   ],
   "source": [
    "train_data1.groupby(by='year').mean()"
   ]
  },
  {
   "cell_type": "markdown",
   "metadata": {},
   "source": [
    "### Insights -  Average of all the Parameters were highest in 2013 and started to drop YOY"
   ]
  },
  {
   "cell_type": "markdown",
   "metadata": {},
   "source": [
    "### Q2 -  What was the Year on Year Average Station PM2.5"
   ]
  },
  {
   "cell_type": "code",
   "execution_count": 26,
   "metadata": {},
   "outputs": [
    {
     "data": {
      "text/plain": [
       "<AxesSubplot:xlabel='station'>"
      ]
     },
     "execution_count": 26,
     "metadata": {},
     "output_type": "execute_result"
    },
    {
     "data": {
      "image/png": "[encoded data removed]",
      "text/plain": [
       "<Figure size 720x720 with 4 Axes>"
      ]
     },
     "metadata": {
      "needs_background": "light"
     },
     "output_type": "display_data"
    }
   ],
   "source": [
    "f,axes = plt.subplots(2,2,figsize=(10,10))\n",
    "train_data1[(train_data1['year']==2013)].groupby(by='station').mean()['PM2.5'].sort_values(ascending=False).plot(kind='bar',color='red', ax=axes[0,0])\n",
    "train_data1[(train_data1['year']==2014)].groupby(by='station').mean()['PM2.5'].sort_values(ascending=False).plot(kind='bar',color='red', ax=axes[0,1])\n",
    "train_data1[(train_data1['year']==2015)].groupby(by='station').mean()['PM2.5'].sort_values(ascending=False).plot(kind='bar',color='red', ax=axes[1,0])\n",
    "train_data1[(train_data1['year']==2016)].groupby(by='station').mean()['PM2.5'].sort_values(ascending=False).plot(kind='bar',color='red', ax=axes[1,1])"
   ]
  },
  {
   "cell_type": "markdown",
   "metadata": {},
   "source": [
    "### Correlation of Target Variable with Other Variable"
   ]
  },
  {
   "cell_type": "code",
   "execution_count": 27,
   "metadata": {},
   "outputs": [
    {
     "data": {
      "text/plain": [
       "<AxesSubplot:>"
      ]
     },
     "execution_count": 27,
     "metadata": {},
     "output_type": "execute_result"
    },
    {
     "data": {
      "image/png": "[encoded data removed]",
      "text/plain": [
       "<Figure size 432x288 with 1 Axes>"
      ]
     },
     "metadata": {
      "needs_background": "light"
     },
     "output_type": "display_data"
    }
   ],
   "source": [
    "train_data1.corr()['PM2.5'].plot(kind='bar')"
   ]
  },
  {
   "cell_type": "markdown",
   "metadata": {},
   "source": [
    "### Insights - PM10 has the positive coorelation followed by CO, NO2, SO2 and DEWP. WSPM and PRES has negative Correlation"
   ]
  },
  {
   "cell_type": "markdown",
   "metadata": {},
   "source": [
    "### Q3 - Which month of the year has the highest PM2.5 concentration in the air ?"
   ]
  },
  {
   "cell_type": "code",
   "execution_count": 28,
   "metadata": {},
   "outputs": [
    {
     "data": {
      "text/plain": [
       "<AxesSubplot:xlabel='month'>"
      ]
     },
     "execution_count": 28,
     "metadata": {},
     "output_type": "execute_result"
    },
    {
     "data": {
      "image/png": "[encoded data removed]",
      "text/plain": [
       "<Figure size 432x288 with 1 Axes>"
      ]
     },
     "metadata": {
      "needs_background": "light"
     },
     "output_type": "display_data"
    }
   ],
   "source": [
    "train_data1.groupby(by='month').mean()['PM2.5'].plot(kind='bar')"
   ]
  },
  {
   "cell_type": "markdown",
   "metadata": {},
   "source": [
    "- Insights -  for the Month of July and October , PM2.5 has highest concentration in the air"
   ]
  },
  {
   "cell_type": "markdown",
   "metadata": {},
   "source": [
    "### Q4 - Which time during the day is PM2.5 have highest release of PM2.5  in air"
   ]
  },
  {
   "cell_type": "code",
   "execution_count": 29,
   "metadata": {},
   "outputs": [
    {
     "data": {
      "text/plain": [
       "<AxesSubplot:xlabel='hour'>"
      ]
     },
     "execution_count": 29,
     "metadata": {},
     "output_type": "execute_result"
    },
    {
     "data": {
      "image/png": "[encoded data removed]",
      "text/plain": [
       "<Figure size 720x720 with 1 Axes>"
      ]
     },
     "metadata": {
      "needs_background": "light"
     },
     "output_type": "display_data"
    }
   ],
   "source": [
    "plt.figure(figsize=(10,10))\n",
    "train_data1.groupby(by='hour').mean()['PM2.5'].plot(kind='bar')"
   ]
  },
  {
   "cell_type": "markdown",
   "metadata": {},
   "source": [
    "### Insights - Highest PM2.5 can be seen emitted during late evening from 8:00 pm to 4:am in the morning"
   ]
  },
  {
   "cell_type": "code",
   "execution_count": 30,
   "metadata": {},
   "outputs": [
    {
     "data": {
      "text/plain": [
       "Index(['REF_NO', 'year', 'month', 'day', 'hour', 'PM2.5', 'PM10', 'SO2', 'NO2',\n",
       "       'CO', 'O3', 'TEMP', 'PRES', 'DEWP', 'RAIN', 'wd', 'WSPM', 'station',\n",
       "       'Date'],\n",
       "      dtype='object')"
      ]
     },
     "execution_count": 30,
     "metadata": {},
     "output_type": "execute_result"
    }
   ],
   "source": [
    "train_data1.columns"
   ]
  },
  {
   "cell_type": "code",
   "execution_count": 31,
   "metadata": {},
   "outputs": [
    {
     "data": {
      "image/png": "[encoded data removed]",
      "text/plain": [
       "<Figure size 936x648 with 2 Axes>"
      ]
     },
     "metadata": {
      "needs_background": "light"
     },
     "output_type": "display_data"
    }
   ],
   "source": [
    "plt.figure(figsize=(13,9))\n",
    "sns.heatmap(train_data1.corr(),cmap=plt.cm.Reds,annot=True)\n",
    "plt.title('Heatmap displaying the correlation matrix of the variables',fontsize=16)\n",
    "plt.show()"
   ]
  },
  {
   "cell_type": "markdown",
   "metadata": {},
   "source": [
    "### Issue of Multicollinearity in the data\n",
    "\n",
    "1- Temp and DEWP - 0.81 since temperature has lowest coorelation with PM2.5 hence we can drop the same<br>\n",
    "2 - Pres and DEWP - -0.71 since pres have lower coorelation with PM2.5. hence we can drop the same"
   ]
  },
  {
   "cell_type": "code",
   "execution_count": 171,
   "metadata": {},
   "outputs": [
    {
     "data": {
      "text/plain": [
       "Index(['REF_NO', 'year', 'month', 'day', 'hour', 'PM2.5', 'PM10', 'SO2', 'NO2',\n",
       "       'CO', 'O3', 'TEMP', 'PRES', 'DEWP', 'RAIN', 'wd', 'WSPM', 'station',\n",
       "       'Date'],\n",
       "      dtype='object')"
      ]
     },
     "execution_count": 171,
     "metadata": {},
     "output_type": "execute_result"
    }
   ],
   "source": [
    "train_data1.columns"
   ]
  },
  {
   "cell_type": "markdown",
   "metadata": {},
   "source": [
    "### Dropping Unnecessary Columns"
   ]
  },
  {
   "cell_type": "code",
   "execution_count": 172,
   "metadata": {},
   "outputs": [],
   "source": [
    "dropcols = ['REF_NO','year','month','day','hour','TEMP','PRES','station','Date']"
   ]
  },
  {
   "cell_type": "code",
   "execution_count": 173,
   "metadata": {},
   "outputs": [],
   "source": [
    "train_data2 = train_data1.drop(dropcols,axis=1)"
   ]
  },
  {
   "cell_type": "code",
   "execution_count": 174,
   "metadata": {},
   "outputs": [
    {
     "data": {
      "text/plain": [
       "Index(['PM2.5', 'PM10', 'SO2', 'NO2', 'CO', 'O3', 'DEWP', 'RAIN', 'wd',\n",
       "       'WSPM'],\n",
       "      dtype='object')"
      ]
     },
     "execution_count": 174,
     "metadata": {},
     "output_type": "execute_result"
    }
   ],
   "source": [
    "train_data2.columns"
   ]
  },
  {
   "cell_type": "markdown",
   "metadata": {},
   "source": [
    "### Converting Non Numerical Columns to Numerical Columns"
   ]
  },
  {
   "cell_type": "code",
   "execution_count": 175,
   "metadata": {},
   "outputs": [],
   "source": [
    "train_data2 = pd.get_dummies(train_data2,drop_first=True)"
   ]
  },
  {
   "cell_type": "code",
   "execution_count": 176,
   "metadata": {},
   "outputs": [
    {
     "data": {
      "text/plain": [
       "Index(['PM2.5', 'PM10', 'SO2', 'NO2', 'CO', 'O3', 'DEWP', 'RAIN', 'WSPM',\n",
       "       'wd_ENE', 'wd_ESE', 'wd_N', 'wd_NE', 'wd_NNE', 'wd_NNW', 'wd_NW',\n",
       "       'wd_S', 'wd_SE', 'wd_SSE', 'wd_SSW', 'wd_SW', 'wd_W', 'wd_WNW',\n",
       "       'wd_WSW'],\n",
       "      dtype='object')"
      ]
     },
     "execution_count": 176,
     "metadata": {},
     "output_type": "execute_result"
    }
   ],
   "source": [
    "train_data2.columns"
   ]
  },
  {
   "cell_type": "markdown",
   "metadata": {},
   "source": [
    "### Splitting X and y"
   ]
  },
  {
   "cell_type": "code",
   "execution_count": 177,
   "metadata": {},
   "outputs": [],
   "source": [
    "X = train_data2.drop('PM2.5',axis=1)"
   ]
  },
  {
   "cell_type": "code",
   "execution_count": 178,
   "metadata": {},
   "outputs": [],
   "source": [
    "y = train_data2['PM2.5']"
   ]
  },
  {
   "cell_type": "markdown",
   "metadata": {},
   "source": [
    "## Scaling X Variable"
   ]
  },
  {
   "cell_type": "code",
   "execution_count": 179,
   "metadata": {},
   "outputs": [],
   "source": [
    "from sklearn.preprocessing import StandardScaler"
   ]
  },
  {
   "cell_type": "code",
   "execution_count": 180,
   "metadata": {},
   "outputs": [],
   "source": [
    "SS = StandardScaler()"
   ]
  },
  {
   "cell_type": "code",
   "execution_count": 181,
   "metadata": {},
   "outputs": [],
   "source": [
    "X[X.columns] = SS.fit_transform(X)"
   ]
  },
  {
   "cell_type": "code",
   "execution_count": 182,
   "metadata": {},
   "outputs": [
    {
     "data": {
      "text/html": [
       "<div>\n",
       "<style scoped>\n",
       "    .dataframe tbody tr th:only-of-type {\n",
       "        vertical-align: middle;\n",
       "    }\n",
       "\n",
       "    .dataframe tbody tr th {\n",
       "        vertical-align: top;\n",
       "    }\n",
       "\n",
       "    .dataframe thead th {\n",
       "        text-align: right;\n",
       "    }\n",
       "</style>\n",
       "<table border=\"1\" class=\"dataframe\">\n",
       "  <thead>\n",
       "    <tr style=\"text-align: right;\">\n",
       "      <th></th>\n",
       "      <th>count</th>\n",
       "      <th>mean</th>\n",
       "      <th>std</th>\n",
       "      <th>min</th>\n",
       "      <th>25%</th>\n",
       "      <th>50%</th>\n",
       "      <th>75%</th>\n",
       "      <th>max</th>\n",
       "    </tr>\n",
       "  </thead>\n",
       "  <tbody>\n",
       "    <tr>\n",
       "      <th>PM10</th>\n",
       "      <td>307196.0</td>\n",
       "      <td>1.280081e-15</td>\n",
       "      <td>1.000002</td>\n",
       "      <td>-1.265414</td>\n",
       "      <td>-0.809687</td>\n",
       "      <td>-0.235809</td>\n",
       "      <td>0.574372</td>\n",
       "      <td>3.899490</td>\n",
       "    </tr>\n",
       "    <tr>\n",
       "      <th>SO2</th>\n",
       "      <td>307196.0</td>\n",
       "      <td>2.003291e-14</td>\n",
       "      <td>1.000002</td>\n",
       "      <td>-0.951115</td>\n",
       "      <td>-0.762136</td>\n",
       "      <td>-0.431445</td>\n",
       "      <td>0.340167</td>\n",
       "      <td>3.647075</td>\n",
       "    </tr>\n",
       "    <tr>\n",
       "      <th>NO2</th>\n",
       "      <td>307196.0</td>\n",
       "      <td>-1.271794e-14</td>\n",
       "      <td>1.000002</td>\n",
       "      <td>-1.562074</td>\n",
       "      <td>-0.790356</td>\n",
       "      <td>-0.133525</td>\n",
       "      <td>0.639217</td>\n",
       "      <td>3.111990</td>\n",
       "    </tr>\n",
       "    <tr>\n",
       "      <th>CO</th>\n",
       "      <td>307196.0</td>\n",
       "      <td>3.894916e-14</td>\n",
       "      <td>1.000002</td>\n",
       "      <td>-1.504065</td>\n",
       "      <td>-0.880175</td>\n",
       "      <td>-0.256285</td>\n",
       "      <td>0.575568</td>\n",
       "      <td>2.863165</td>\n",
       "    </tr>\n",
       "    <tr>\n",
       "      <th>O3</th>\n",
       "      <td>307196.0</td>\n",
       "      <td>-8.835933e-15</td>\n",
       "      <td>1.000002</td>\n",
       "      <td>-1.275364</td>\n",
       "      <td>-0.827749</td>\n",
       "      <td>-0.149057</td>\n",
       "      <td>0.574881</td>\n",
       "      <td>2.972927</td>\n",
       "    </tr>\n",
       "    <tr>\n",
       "      <th>DEWP</th>\n",
       "      <td>307196.0</td>\n",
       "      <td>-4.686547e-16</td>\n",
       "      <td>1.000002</td>\n",
       "      <td>-3.347589</td>\n",
       "      <td>-0.844574</td>\n",
       "      <td>0.158054</td>\n",
       "      <td>0.890470</td>\n",
       "      <td>1.807768</td>\n",
       "    </tr>\n",
       "    <tr>\n",
       "      <th>RAIN</th>\n",
       "      <td>307196.0</td>\n",
       "      <td>-3.914527e-15</td>\n",
       "      <td>1.000002</td>\n",
       "      <td>-0.086896</td>\n",
       "      <td>-0.086896</td>\n",
       "      <td>-0.086896</td>\n",
       "      <td>-0.086896</td>\n",
       "      <td>80.827057</td>\n",
       "    </tr>\n",
       "    <tr>\n",
       "      <th>WSPM</th>\n",
       "      <td>307196.0</td>\n",
       "      <td>-1.131205e-15</td>\n",
       "      <td>1.000002</td>\n",
       "      <td>-1.393190</td>\n",
       "      <td>-0.692048</td>\n",
       "      <td>-0.302524</td>\n",
       "      <td>0.398618</td>\n",
       "      <td>8.656513</td>\n",
       "    </tr>\n",
       "    <tr>\n",
       "      <th>wd_ENE</th>\n",
       "      <td>307196.0</td>\n",
       "      <td>-4.359209e-14</td>\n",
       "      <td>1.000002</td>\n",
       "      <td>-0.287479</td>\n",
       "      <td>-0.287479</td>\n",
       "      <td>-0.287479</td>\n",
       "      <td>-0.287479</td>\n",
       "      <td>3.478512</td>\n",
       "    </tr>\n",
       "    <tr>\n",
       "      <th>wd_ESE</th>\n",
       "      <td>307196.0</td>\n",
       "      <td>-1.257891e-13</td>\n",
       "      <td>1.000002</td>\n",
       "      <td>-0.240100</td>\n",
       "      <td>-0.240100</td>\n",
       "      <td>-0.240100</td>\n",
       "      <td>-0.240100</td>\n",
       "      <td>4.164929</td>\n",
       "    </tr>\n",
       "    <tr>\n",
       "      <th>wd_N</th>\n",
       "      <td>307196.0</td>\n",
       "      <td>-1.044243e-13</td>\n",
       "      <td>1.000002</td>\n",
       "      <td>-0.294253</td>\n",
       "      <td>-0.294253</td>\n",
       "      <td>-0.294253</td>\n",
       "      <td>-0.294253</td>\n",
       "      <td>3.398436</td>\n",
       "    </tr>\n",
       "    <tr>\n",
       "      <th>wd_NE</th>\n",
       "      <td>307196.0</td>\n",
       "      <td>-1.521249e-13</td>\n",
       "      <td>1.000002</td>\n",
       "      <td>-0.336096</td>\n",
       "      <td>-0.336096</td>\n",
       "      <td>-0.336096</td>\n",
       "      <td>-0.336096</td>\n",
       "      <td>2.975342</td>\n",
       "    </tr>\n",
       "    <tr>\n",
       "      <th>wd_NNE</th>\n",
       "      <td>307196.0</td>\n",
       "      <td>1.220262e-14</td>\n",
       "      <td>1.000002</td>\n",
       "      <td>-0.277999</td>\n",
       "      <td>-0.277999</td>\n",
       "      <td>-0.277999</td>\n",
       "      <td>-0.277999</td>\n",
       "      <td>3.597135</td>\n",
       "    </tr>\n",
       "    <tr>\n",
       "      <th>wd_NNW</th>\n",
       "      <td>307196.0</td>\n",
       "      <td>1.485727e-13</td>\n",
       "      <td>1.000002</td>\n",
       "      <td>-0.268519</td>\n",
       "      <td>-0.268519</td>\n",
       "      <td>-0.268519</td>\n",
       "      <td>-0.268519</td>\n",
       "      <td>3.724127</td>\n",
       "    </tr>\n",
       "    <tr>\n",
       "      <th>wd_NW</th>\n",
       "      <td>307196.0</td>\n",
       "      <td>1.676954e-14</td>\n",
       "      <td>1.000002</td>\n",
       "      <td>-0.301494</td>\n",
       "      <td>-0.301494</td>\n",
       "      <td>-0.301494</td>\n",
       "      <td>-0.301494</td>\n",
       "      <td>3.316813</td>\n",
       "    </tr>\n",
       "    <tr>\n",
       "      <th>wd_S</th>\n",
       "      <td>307196.0</td>\n",
       "      <td>-2.194382e-14</td>\n",
       "      <td>1.000002</td>\n",
       "      <td>-0.209381</td>\n",
       "      <td>-0.209381</td>\n",
       "      <td>-0.209381</td>\n",
       "      <td>-0.209381</td>\n",
       "      <td>4.775977</td>\n",
       "    </tr>\n",
       "    <tr>\n",
       "      <th>wd_SE</th>\n",
       "      <td>307196.0</td>\n",
       "      <td>7.312646e-15</td>\n",
       "      <td>1.000002</td>\n",
       "      <td>-0.213390</td>\n",
       "      <td>-0.213390</td>\n",
       "      <td>-0.213390</td>\n",
       "      <td>-0.213390</td>\n",
       "      <td>4.686263</td>\n",
       "    </tr>\n",
       "    <tr>\n",
       "      <th>wd_SSE</th>\n",
       "      <td>307196.0</td>\n",
       "      <td>9.923673e-15</td>\n",
       "      <td>1.000002</td>\n",
       "      <td>-0.201271</td>\n",
       "      <td>-0.201271</td>\n",
       "      <td>-0.201271</td>\n",
       "      <td>-0.201271</td>\n",
       "      <td>4.968429</td>\n",
       "    </tr>\n",
       "    <tr>\n",
       "      <th>wd_SSW</th>\n",
       "      <td>307196.0</td>\n",
       "      <td>5.151604e-14</td>\n",
       "      <td>1.000002</td>\n",
       "      <td>-0.232280</td>\n",
       "      <td>-0.232280</td>\n",
       "      <td>-0.232280</td>\n",
       "      <td>-0.232280</td>\n",
       "      <td>4.305145</td>\n",
       "    </tr>\n",
       "    <tr>\n",
       "      <th>wd_SW</th>\n",
       "      <td>307196.0</td>\n",
       "      <td>9.746902e-14</td>\n",
       "      <td>1.000002</td>\n",
       "      <td>-0.262499</td>\n",
       "      <td>-0.262499</td>\n",
       "      <td>-0.262499</td>\n",
       "      <td>-0.262499</td>\n",
       "      <td>3.809541</td>\n",
       "    </tr>\n",
       "    <tr>\n",
       "      <th>wd_W</th>\n",
       "      <td>307196.0</td>\n",
       "      <td>-5.022395e-14</td>\n",
       "      <td>1.000002</td>\n",
       "      <td>-0.214496</td>\n",
       "      <td>-0.214496</td>\n",
       "      <td>-0.214496</td>\n",
       "      <td>-0.214496</td>\n",
       "      <td>4.662086</td>\n",
       "    </tr>\n",
       "    <tr>\n",
       "      <th>wd_WNW</th>\n",
       "      <td>307196.0</td>\n",
       "      <td>2.499080e-14</td>\n",
       "      <td>1.000002</td>\n",
       "      <td>-0.263765</td>\n",
       "      <td>-0.263765</td>\n",
       "      <td>-0.263765</td>\n",
       "      <td>-0.263765</td>\n",
       "      <td>3.791258</td>\n",
       "    </tr>\n",
       "    <tr>\n",
       "      <th>wd_WSW</th>\n",
       "      <td>307196.0</td>\n",
       "      <td>-5.347831e-14</td>\n",
       "      <td>1.000002</td>\n",
       "      <td>-0.227342</td>\n",
       "      <td>-0.227342</td>\n",
       "      <td>-0.227342</td>\n",
       "      <td>-0.227342</td>\n",
       "      <td>4.398653</td>\n",
       "    </tr>\n",
       "  </tbody>\n",
       "</table>\n",
       "</div>"
      ],
      "text/plain": [
       "           count          mean       std       min       25%       50%  \\\n",
       "PM10    307196.0  1.280081e-15  1.000002 -1.265414 -0.809687 -0.235809   \n",
       "SO2     307196.0  2.003291e-14  1.000002 -0.951115 -0.762136 -0.431445   \n",
       "NO2     307196.0 -1.271794e-14  1.000002 -1.562074 -0.790356 -0.133525   \n",
       "CO      307196.0  3.894916e-14  1.000002 -1.504065 -0.880175 -0.256285   \n",
       "O3      307196.0 -8.835933e-15  1.000002 -1.275364 -0.827749 -0.149057   \n",
       "DEWP    307196.0 -4.686547e-16  1.000002 -3.347589 -0.844574  0.158054   \n",
       "RAIN    307196.0 -3.914527e-15  1.000002 -0.086896 -0.086896 -0.086896   \n",
       "WSPM    307196.0 -1.131205e-15  1.000002 -1.393190 -0.692048 -0.302524   \n",
       "wd_ENE  307196.0 -4.359209e-14  1.000002 -0.287479 -0.287479 -0.287479   \n",
       "wd_ESE  307196.0 -1.257891e-13  1.000002 -0.240100 -0.240100 -0.240100   \n",
       "wd_N    307196.0 -1.044243e-13  1.000002 -0.294253 -0.294253 -0.294253   \n",
       "wd_NE   307196.0 -1.521249e-13  1.000002 -0.336096 -0.336096 -0.336096   \n",
       "wd_NNE  307196.0  1.220262e-14  1.000002 -0.277999 -0.277999 -0.277999   \n",
       "wd_NNW  307196.0  1.485727e-13  1.000002 -0.268519 -0.268519 -0.268519   \n",
       "wd_NW   307196.0  1.676954e-14  1.000002 -0.301494 -0.301494 -0.301494   \n",
       "wd_S    307196.0 -2.194382e-14  1.000002 -0.209381 -0.209381 -0.209381   \n",
       "wd_SE   307196.0  7.312646e-15  1.000002 -0.213390 -0.213390 -0.213390   \n",
       "wd_SSE  307196.0  9.923673e-15  1.000002 -0.201271 -0.201271 -0.201271   \n",
       "wd_SSW  307196.0  5.151604e-14  1.000002 -0.232280 -0.232280 -0.232280   \n",
       "wd_SW   307196.0  9.746902e-14  1.000002 -0.262499 -0.262499 -0.262499   \n",
       "wd_W    307196.0 -5.022395e-14  1.000002 -0.214496 -0.214496 -0.214496   \n",
       "wd_WNW  307196.0  2.499080e-14  1.000002 -0.263765 -0.263765 -0.263765   \n",
       "wd_WSW  307196.0 -5.347831e-14  1.000002 -0.227342 -0.227342 -0.227342   \n",
       "\n",
       "             75%        max  \n",
       "PM10    0.574372   3.899490  \n",
       "SO2     0.340167   3.647075  \n",
       "NO2     0.639217   3.111990  \n",
       "CO      0.575568   2.863165  \n",
       "O3      0.574881   2.972927  \n",
       "DEWP    0.890470   1.807768  \n",
       "RAIN   -0.086896  80.827057  \n",
       "WSPM    0.398618   8.656513  \n",
       "wd_ENE -0.287479   3.478512  \n",
       "wd_ESE -0.240100   4.164929  \n",
       "wd_N   -0.294253   3.398436  \n",
       "wd_NE  -0.336096   2.975342  \n",
       "wd_NNE -0.277999   3.597135  \n",
       "wd_NNW -0.268519   3.724127  \n",
       "wd_NW  -0.301494   3.316813  \n",
       "wd_S   -0.209381   4.775977  \n",
       "wd_SE  -0.213390   4.686263  \n",
       "wd_SSE -0.201271   4.968429  \n",
       "wd_SSW -0.232280   4.305145  \n",
       "wd_SW  -0.262499   3.809541  \n",
       "wd_W   -0.214496   4.662086  \n",
       "wd_WNW -0.263765   3.791258  \n",
       "wd_WSW -0.227342   4.398653  "
      ]
     },
     "execution_count": 182,
     "metadata": {},
     "output_type": "execute_result"
    }
   ],
   "source": [
    "X.describe().T"
   ]
  },
  {
   "cell_type": "markdown",
   "metadata": {},
   "source": [
    "# Importing and Running Linear Regression"
   ]
  },
  {
   "cell_type": "code",
   "execution_count": 183,
   "metadata": {},
   "outputs": [],
   "source": [
    "from sklearn.linear_model import LinearRegression"
   ]
  },
  {
   "cell_type": "code",
   "execution_count": 184,
   "metadata": {},
   "outputs": [],
   "source": [
    "LinReg = LinearRegression()"
   ]
  },
  {
   "cell_type": "code",
   "execution_count": 185,
   "metadata": {},
   "outputs": [
    {
     "data": {
      "text/plain": [
       "LinearRegression()"
      ]
     },
     "execution_count": 185,
     "metadata": {},
     "output_type": "execute_result"
    }
   ],
   "source": [
    "LinReg.fit(X,y)"
   ]
  },
  {
   "cell_type": "code",
   "execution_count": 186,
   "metadata": {},
   "outputs": [],
   "source": [
    "PredValues = LinReg.predict(X)"
   ]
  },
  {
   "cell_type": "code",
   "execution_count": 187,
   "metadata": {},
   "outputs": [
    {
     "data": {
      "text/plain": [
       "array([ 3.15616691e+01,  5.95281356e-01, -4.37173420e+00,  1.74791514e+01,\n",
       "        5.40576319e-01,  6.09208181e+00, -1.23121919e-01, -1.38955970e+00,\n",
       "       -4.52272304e-02,  3.61045115e-01,  7.08535037e-02,  1.12503956e-01,\n",
       "        6.28377911e-03,  6.01085513e-02, -1.14722371e-01, -7.10994295e-02,\n",
       "        5.15199005e-02,  1.19600844e-01, -1.44298336e-01, -6.19871663e-01,\n",
       "       -5.61430917e-01, -3.16884824e-01, -4.41188156e-01])"
      ]
     },
     "execution_count": 187,
     "metadata": {},
     "output_type": "execute_result"
    }
   ],
   "source": [
    "LinReg.coef_"
   ]
  },
  {
   "cell_type": "code",
   "execution_count": 188,
   "metadata": {},
   "outputs": [
    {
     "data": {
      "text/plain": [
       "54.86563529473041"
      ]
     },
     "execution_count": 188,
     "metadata": {},
     "output_type": "execute_result"
    }
   ],
   "source": [
    "LinReg.intercept_"
   ]
  },
  {
   "cell_type": "markdown",
   "metadata": {},
   "source": [
    "### Model Evaluation using Root Mean Square"
   ]
  },
  {
   "cell_type": "code",
   "execution_count": 189,
   "metadata": {},
   "outputs": [],
   "source": [
    "from sklearn.metrics import mean_squared_error,r2_score"
   ]
  },
  {
   "cell_type": "code",
   "execution_count": 190,
   "metadata": {},
   "outputs": [],
   "source": [
    "mseval = mean_squared_error(y,PredValues)"
   ]
  },
  {
   "cell_type": "code",
   "execution_count": 191,
   "metadata": {},
   "outputs": [
    {
     "data": {
      "text/plain": [
       "572.6219918930045"
      ]
     },
     "execution_count": 191,
     "metadata": {},
     "output_type": "execute_result"
    }
   ],
   "source": [
    "mseval"
   ]
  },
  {
   "cell_type": "code",
   "execution_count": 195,
   "metadata": {},
   "outputs": [],
   "source": [
    "RMSE = np.sqrt(mseval)"
   ]
  },
  {
   "cell_type": "code",
   "execution_count": 196,
   "metadata": {},
   "outputs": [
    {
     "data": {
      "text/plain": [
       "23.929521346926364"
      ]
     },
     "execution_count": 196,
     "metadata": {},
     "output_type": "execute_result"
    }
   ],
   "source": [
    "RMSE"
   ]
  },
  {
   "cell_type": "markdown",
   "metadata": {},
   "source": [
    "# Final Steps of Test Data"
   ]
  },
  {
   "cell_type": "code",
   "execution_count": 198,
   "metadata": {},
   "outputs": [
    {
     "data": {
      "text/html": [
       "<div>\n",
       "<style scoped>\n",
       "    .dataframe tbody tr th:only-of-type {\n",
       "        vertical-align: middle;\n",
       "    }\n",
       "\n",
       "    .dataframe tbody tr th {\n",
       "        vertical-align: top;\n",
       "    }\n",
       "\n",
       "    .dataframe thead th {\n",
       "        text-align: right;\n",
       "    }\n",
       "</style>\n",
       "<table border=\"1\" class=\"dataframe\">\n",
       "  <thead>\n",
       "    <tr style=\"text-align: right;\">\n",
       "      <th></th>\n",
       "      <th>REF_NO</th>\n",
       "      <th>year</th>\n",
       "      <th>month</th>\n",
       "      <th>day</th>\n",
       "      <th>hour</th>\n",
       "      <th>PM10</th>\n",
       "      <th>SO2</th>\n",
       "      <th>NO2</th>\n",
       "      <th>CO</th>\n",
       "      <th>O3</th>\n",
       "      <th>TEMP</th>\n",
       "      <th>PRES</th>\n",
       "      <th>DEWP</th>\n",
       "      <th>RAIN</th>\n",
       "      <th>wd</th>\n",
       "      <th>WSPM</th>\n",
       "      <th>station</th>\n",
       "    </tr>\n",
       "  </thead>\n",
       "  <tbody>\n",
       "    <tr>\n",
       "      <th>0</th>\n",
       "      <td>33649</td>\n",
       "      <td>2017</td>\n",
       "      <td>1</td>\n",
       "      <td>1</td>\n",
       "      <td>0</td>\n",
       "      <td>496.0</td>\n",
       "      <td>8.0</td>\n",
       "      <td>121.0</td>\n",
       "      <td>6100.0</td>\n",
       "      <td>4.0</td>\n",
       "      <td>-4.7</td>\n",
       "      <td>1022.1</td>\n",
       "      <td>-6.1</td>\n",
       "      <td>0.0</td>\n",
       "      <td>ENE</td>\n",
       "      <td>1.0</td>\n",
       "      <td>Aotizhongxin</td>\n",
       "    </tr>\n",
       "    <tr>\n",
       "      <th>1</th>\n",
       "      <td>33650</td>\n",
       "      <td>2017</td>\n",
       "      <td>1</td>\n",
       "      <td>1</td>\n",
       "      <td>1</td>\n",
       "      <td>497.0</td>\n",
       "      <td>7.0</td>\n",
       "      <td>113.0</td>\n",
       "      <td>6300.0</td>\n",
       "      <td>4.0</td>\n",
       "      <td>-5.2</td>\n",
       "      <td>1022.3</td>\n",
       "      <td>-6.4</td>\n",
       "      <td>0.0</td>\n",
       "      <td>E</td>\n",
       "      <td>0.7</td>\n",
       "      <td>Aotizhongxin</td>\n",
       "    </tr>\n",
       "    <tr>\n",
       "      <th>2</th>\n",
       "      <td>33651</td>\n",
       "      <td>2017</td>\n",
       "      <td>1</td>\n",
       "      <td>1</td>\n",
       "      <td>2</td>\n",
       "      <td>469.0</td>\n",
       "      <td>7.0</td>\n",
       "      <td>111.0</td>\n",
       "      <td>6200.0</td>\n",
       "      <td>4.0</td>\n",
       "      <td>-5.4</td>\n",
       "      <td>1022.5</td>\n",
       "      <td>-6.5</td>\n",
       "      <td>0.0</td>\n",
       "      <td>ENE</td>\n",
       "      <td>1.1</td>\n",
       "      <td>Aotizhongxin</td>\n",
       "    </tr>\n",
       "    <tr>\n",
       "      <th>3</th>\n",
       "      <td>33652</td>\n",
       "      <td>2017</td>\n",
       "      <td>1</td>\n",
       "      <td>1</td>\n",
       "      <td>3</td>\n",
       "      <td>425.0</td>\n",
       "      <td>6.0</td>\n",
       "      <td>109.0</td>\n",
       "      <td>5900.0</td>\n",
       "      <td>3.0</td>\n",
       "      <td>-5.2</td>\n",
       "      <td>1022.5</td>\n",
       "      <td>-6.2</td>\n",
       "      <td>0.0</td>\n",
       "      <td>E</td>\n",
       "      <td>1.1</td>\n",
       "      <td>Aotizhongxin</td>\n",
       "    </tr>\n",
       "    <tr>\n",
       "      <th>4</th>\n",
       "      <td>33653</td>\n",
       "      <td>2017</td>\n",
       "      <td>1</td>\n",
       "      <td>1</td>\n",
       "      <td>4</td>\n",
       "      <td>468.0</td>\n",
       "      <td>10.0</td>\n",
       "      <td>123.0</td>\n",
       "      <td>7700.0</td>\n",
       "      <td>16.0</td>\n",
       "      <td>-5.0</td>\n",
       "      <td>1021.9</td>\n",
       "      <td>-5.8</td>\n",
       "      <td>0.0</td>\n",
       "      <td>ENE</td>\n",
       "      <td>1.0</td>\n",
       "      <td>Aotizhongxin</td>\n",
       "    </tr>\n",
       "  </tbody>\n",
       "</table>\n",
       "</div>"
      ],
      "text/plain": [
       "   REF_NO  year  month  day  hour   PM10   SO2    NO2      CO    O3  TEMP  \\\n",
       "0   33649  2017      1    1     0  496.0   8.0  121.0  6100.0   4.0  -4.7   \n",
       "1   33650  2017      1    1     1  497.0   7.0  113.0  6300.0   4.0  -5.2   \n",
       "2   33651  2017      1    1     2  469.0   7.0  111.0  6200.0   4.0  -5.4   \n",
       "3   33652  2017      1    1     3  425.0   6.0  109.0  5900.0   3.0  -5.2   \n",
       "4   33653  2017      1    1     4  468.0  10.0  123.0  7700.0  16.0  -5.0   \n",
       "\n",
       "     PRES  DEWP  RAIN   wd  WSPM       station  \n",
       "0  1022.1  -6.1   0.0  ENE   1.0  Aotizhongxin  \n",
       "1  1022.3  -6.4   0.0    E   0.7  Aotizhongxin  \n",
       "2  1022.5  -6.5   0.0  ENE   1.1  Aotizhongxin  \n",
       "3  1022.5  -6.2   0.0    E   1.1  Aotizhongxin  \n",
       "4  1021.9  -5.8   0.0  ENE   1.0  Aotizhongxin  "
      ]
     },
     "execution_count": 198,
     "metadata": {},
     "output_type": "execute_result"
    }
   ],
   "source": [
    "test_data.head()"
   ]
  },
  {
   "cell_type": "code",
   "execution_count": 200,
   "metadata": {},
   "outputs": [],
   "source": [
    "dropcols_T = ['REF_NO','year','month','day','hour','TEMP','PRES','station']"
   ]
  },
  {
   "cell_type": "code",
   "execution_count": 201,
   "metadata": {},
   "outputs": [],
   "source": [
    "X_test = test_data.drop(dropcols_T, axis=1)"
   ]
  },
  {
   "cell_type": "markdown",
   "metadata": {},
   "source": [
    "## Converting Categorical wd into Numerical"
   ]
  },
  {
   "cell_type": "code",
   "execution_count": 203,
   "metadata": {},
   "outputs": [],
   "source": [
    "X_test = pd.get_dummies(X_test, drop_first=True)"
   ]
  },
  {
   "cell_type": "code",
   "execution_count": 204,
   "metadata": {},
   "outputs": [
    {
     "data": {
      "text/plain": [
       "Index(['PM10', 'SO2', 'NO2', 'CO', 'O3', 'DEWP', 'RAIN', 'WSPM', 'wd_ENE',\n",
       "       'wd_ESE', 'wd_N', 'wd_NE', 'wd_NNE', 'wd_NNW', 'wd_NW', 'wd_S', 'wd_SE',\n",
       "       'wd_SSE', 'wd_SSW', 'wd_SW', 'wd_W', 'wd_WNW', 'wd_WSW'],\n",
       "      dtype='object')"
      ]
     },
     "execution_count": 204,
     "metadata": {},
     "output_type": "execute_result"
    }
   ],
   "source": [
    "X_test.columns"
   ]
  },
  {
   "cell_type": "markdown",
   "metadata": {},
   "source": [
    "## Scaling X"
   ]
  },
  {
   "cell_type": "code",
   "execution_count": 206,
   "metadata": {},
   "outputs": [],
   "source": [
    "X_test[X_test.columns] = SS.transform(X_test)"
   ]
  },
  {
   "cell_type": "code",
   "execution_count": 207,
   "metadata": {},
   "outputs": [
    {
     "data": {
      "text/html": [
       "<div>\n",
       "<style scoped>\n",
       "    .dataframe tbody tr th:only-of-type {\n",
       "        vertical-align: middle;\n",
       "    }\n",
       "\n",
       "    .dataframe tbody tr th {\n",
       "        vertical-align: top;\n",
       "    }\n",
       "\n",
       "    .dataframe thead th {\n",
       "        text-align: right;\n",
       "    }\n",
       "</style>\n",
       "<table border=\"1\" class=\"dataframe\">\n",
       "  <thead>\n",
       "    <tr style=\"text-align: right;\">\n",
       "      <th></th>\n",
       "      <th>count</th>\n",
       "      <th>mean</th>\n",
       "      <th>std</th>\n",
       "      <th>min</th>\n",
       "      <th>25%</th>\n",
       "      <th>50%</th>\n",
       "      <th>75%</th>\n",
       "      <th>max</th>\n",
       "    </tr>\n",
       "  </thead>\n",
       "  <tbody>\n",
       "    <tr>\n",
       "      <th>PM10</th>\n",
       "      <td>16728.0</td>\n",
       "      <td>0.569590</td>\n",
       "      <td>2.082336</td>\n",
       "      <td>-1.248535</td>\n",
       "      <td>-0.894081</td>\n",
       "      <td>-0.151415</td>\n",
       "      <td>1.283281</td>\n",
       "      <td>15.478326</td>\n",
       "    </tr>\n",
       "    <tr>\n",
       "      <th>SO2</th>\n",
       "      <td>16728.0</td>\n",
       "      <td>1.015980</td>\n",
       "      <td>2.127221</td>\n",
       "      <td>-0.872367</td>\n",
       "      <td>-0.431445</td>\n",
       "      <td>0.340167</td>\n",
       "      <td>1.773161</td>\n",
       "      <td>32.086491</td>\n",
       "    </tr>\n",
       "    <tr>\n",
       "      <th>NO2</th>\n",
       "      <td>16728.0</td>\n",
       "      <td>0.608241</td>\n",
       "      <td>1.617157</td>\n",
       "      <td>-1.524460</td>\n",
       "      <td>-0.790356</td>\n",
       "      <td>0.368757</td>\n",
       "      <td>1.643781</td>\n",
       "      <td>9.062102</td>\n",
       "    </tr>\n",
       "    <tr>\n",
       "      <th>CO</th>\n",
       "      <td>16728.0</td>\n",
       "      <td>1.583484</td>\n",
       "      <td>3.620604</td>\n",
       "      <td>-1.504065</td>\n",
       "      <td>-0.880175</td>\n",
       "      <td>0.159642</td>\n",
       "      <td>2.655201</td>\n",
       "      <td>19.084302</td>\n",
       "    </tr>\n",
       "    <tr>\n",
       "      <th>O3</th>\n",
       "      <td>16728.0</td>\n",
       "      <td>-0.376753</td>\n",
       "      <td>0.710340</td>\n",
       "      <td>-1.257587</td>\n",
       "      <td>-1.076603</td>\n",
       "      <td>-0.420534</td>\n",
       "      <td>0.167666</td>\n",
       "      <td>10.031324</td>\n",
       "    </tr>\n",
       "    <tr>\n",
       "      <th>DEWP</th>\n",
       "      <td>16728.0</td>\n",
       "      <td>-1.217994</td>\n",
       "      <td>0.453511</td>\n",
       "      <td>-2.515621</td>\n",
       "      <td>-1.591212</td>\n",
       "      <td>-1.185894</td>\n",
       "      <td>-0.837463</td>\n",
       "      <td>-0.197488</td>\n",
       "    </tr>\n",
       "    <tr>\n",
       "      <th>RAIN</th>\n",
       "      <td>16728.0</td>\n",
       "      <td>-0.084140</td>\n",
       "      <td>0.039983</td>\n",
       "      <td>-0.086896</td>\n",
       "      <td>-0.086896</td>\n",
       "      <td>-0.086896</td>\n",
       "      <td>-0.086896</td>\n",
       "      <td>1.140764</td>\n",
       "    </tr>\n",
       "    <tr>\n",
       "      <th>WSPM</th>\n",
       "      <td>16728.0</td>\n",
       "      <td>0.167582</td>\n",
       "      <td>1.096021</td>\n",
       "      <td>-1.393190</td>\n",
       "      <td>-0.536238</td>\n",
       "      <td>-0.146715</td>\n",
       "      <td>0.632332</td>\n",
       "      <td>7.955371</td>\n",
       "    </tr>\n",
       "    <tr>\n",
       "      <th>wd_ENE</th>\n",
       "      <td>16728.0</td>\n",
       "      <td>-0.090940</td>\n",
       "      <td>0.837603</td>\n",
       "      <td>-0.287479</td>\n",
       "      <td>-0.287479</td>\n",
       "      <td>-0.287479</td>\n",
       "      <td>-0.287479</td>\n",
       "      <td>3.478512</td>\n",
       "    </tr>\n",
       "    <tr>\n",
       "      <th>wd_ESE</th>\n",
       "      <td>16728.0</td>\n",
       "      <td>-0.104747</td>\n",
       "      <td>0.760229</td>\n",
       "      <td>-0.240100</td>\n",
       "      <td>-0.240100</td>\n",
       "      <td>-0.240100</td>\n",
       "      <td>-0.240100</td>\n",
       "      <td>4.164929</td>\n",
       "    </tr>\n",
       "    <tr>\n",
       "      <th>wd_N</th>\n",
       "      <td>16728.0</td>\n",
       "      <td>-0.098007</td>\n",
       "      <td>0.828374</td>\n",
       "      <td>-0.294253</td>\n",
       "      <td>-0.294253</td>\n",
       "      <td>-0.294253</td>\n",
       "      <td>-0.294253</td>\n",
       "      <td>3.398436</td>\n",
       "    </tr>\n",
       "    <tr>\n",
       "      <th>wd_NE</th>\n",
       "      <td>16728.0</td>\n",
       "      <td>0.396150</td>\n",
       "      <td>1.374305</td>\n",
       "      <td>-0.336096</td>\n",
       "      <td>-0.336096</td>\n",
       "      <td>-0.336096</td>\n",
       "      <td>-0.336096</td>\n",
       "      <td>2.975342</td>\n",
       "    </tr>\n",
       "    <tr>\n",
       "      <th>wd_NNE</th>\n",
       "      <td>16728.0</td>\n",
       "      <td>-0.052830</td>\n",
       "      <td>0.906592</td>\n",
       "      <td>-0.277999</td>\n",
       "      <td>-0.277999</td>\n",
       "      <td>-0.277999</td>\n",
       "      <td>-0.277999</td>\n",
       "      <td>3.597135</td>\n",
       "    </tr>\n",
       "    <tr>\n",
       "      <th>wd_NNW</th>\n",
       "      <td>16728.0</td>\n",
       "      <td>0.001667</td>\n",
       "      <td>1.002905</td>\n",
       "      <td>-0.268519</td>\n",
       "      <td>-0.268519</td>\n",
       "      <td>-0.268519</td>\n",
       "      <td>-0.268519</td>\n",
       "      <td>3.724127</td>\n",
       "    </tr>\n",
       "    <tr>\n",
       "      <th>wd_NW</th>\n",
       "      <td>16728.0</td>\n",
       "      <td>0.345250</td>\n",
       "      <td>1.386346</td>\n",
       "      <td>-0.301494</td>\n",
       "      <td>-0.301494</td>\n",
       "      <td>-0.301494</td>\n",
       "      <td>-0.301494</td>\n",
       "      <td>3.316813</td>\n",
       "    </tr>\n",
       "    <tr>\n",
       "      <th>wd_S</th>\n",
       "      <td>16728.0</td>\n",
       "      <td>-0.094642</td>\n",
       "      <td>0.747587</td>\n",
       "      <td>-0.209381</td>\n",
       "      <td>-0.209381</td>\n",
       "      <td>-0.209381</td>\n",
       "      <td>-0.209381</td>\n",
       "      <td>4.775977</td>\n",
       "    </tr>\n",
       "    <tr>\n",
       "      <th>wd_SE</th>\n",
       "      <td>16728.0</td>\n",
       "      <td>0.096793</td>\n",
       "      <td>1.193171</td>\n",
       "      <td>-0.213390</td>\n",
       "      <td>-0.213390</td>\n",
       "      <td>-0.213390</td>\n",
       "      <td>-0.213390</td>\n",
       "      <td>4.686263</td>\n",
       "    </tr>\n",
       "    <tr>\n",
       "      <th>wd_SSE</th>\n",
       "      <td>16728.0</td>\n",
       "      <td>-0.099904</td>\n",
       "      <td>0.716792</td>\n",
       "      <td>-0.201271</td>\n",
       "      <td>-0.201271</td>\n",
       "      <td>-0.201271</td>\n",
       "      <td>-0.201271</td>\n",
       "      <td>4.968429</td>\n",
       "    </tr>\n",
       "    <tr>\n",
       "      <th>wd_SSW</th>\n",
       "      <td>16728.0</td>\n",
       "      <td>-0.118085</td>\n",
       "      <td>0.710733</td>\n",
       "      <td>-0.232280</td>\n",
       "      <td>-0.232280</td>\n",
       "      <td>-0.232280</td>\n",
       "      <td>-0.232280</td>\n",
       "      <td>4.305145</td>\n",
       "    </tr>\n",
       "    <tr>\n",
       "      <th>wd_SW</th>\n",
       "      <td>16728.0</td>\n",
       "      <td>0.135504</td>\n",
       "      <td>1.209282</td>\n",
       "      <td>-0.262499</td>\n",
       "      <td>-0.262499</td>\n",
       "      <td>-0.262499</td>\n",
       "      <td>-0.262499</td>\n",
       "      <td>3.809541</td>\n",
       "    </tr>\n",
       "    <tr>\n",
       "      <th>wd_W</th>\n",
       "      <td>16728.0</td>\n",
       "      <td>-0.132579</td>\n",
       "      <td>0.626731</td>\n",
       "      <td>-0.214496</td>\n",
       "      <td>-0.214496</td>\n",
       "      <td>-0.214496</td>\n",
       "      <td>-0.214496</td>\n",
       "      <td>4.662086</td>\n",
       "    </tr>\n",
       "    <tr>\n",
       "      <th>wd_WNW</th>\n",
       "      <td>16728.0</td>\n",
       "      <td>-0.130440</td>\n",
       "      <td>0.723113</td>\n",
       "      <td>-0.263765</td>\n",
       "      <td>-0.263765</td>\n",
       "      <td>-0.263765</td>\n",
       "      <td>-0.263765</td>\n",
       "      <td>3.791258</td>\n",
       "    </tr>\n",
       "    <tr>\n",
       "      <th>wd_WSW</th>\n",
       "      <td>16728.0</td>\n",
       "      <td>-0.106217</td>\n",
       "      <td>0.738706</td>\n",
       "      <td>-0.227342</td>\n",
       "      <td>-0.227342</td>\n",
       "      <td>-0.227342</td>\n",
       "      <td>-0.227342</td>\n",
       "      <td>4.398653</td>\n",
       "    </tr>\n",
       "  </tbody>\n",
       "</table>\n",
       "</div>"
      ],
      "text/plain": [
       "          count      mean       std       min       25%       50%       75%  \\\n",
       "PM10    16728.0  0.569590  2.082336 -1.248535 -0.894081 -0.151415  1.283281   \n",
       "SO2     16728.0  1.015980  2.127221 -0.872367 -0.431445  0.340167  1.773161   \n",
       "NO2     16728.0  0.608241  1.617157 -1.524460 -0.790356  0.368757  1.643781   \n",
       "CO      16728.0  1.583484  3.620604 -1.504065 -0.880175  0.159642  2.655201   \n",
       "O3      16728.0 -0.376753  0.710340 -1.257587 -1.076603 -0.420534  0.167666   \n",
       "DEWP    16728.0 -1.217994  0.453511 -2.515621 -1.591212 -1.185894 -0.837463   \n",
       "RAIN    16728.0 -0.084140  0.039983 -0.086896 -0.086896 -0.086896 -0.086896   \n",
       "WSPM    16728.0  0.167582  1.096021 -1.393190 -0.536238 -0.146715  0.632332   \n",
       "wd_ENE  16728.0 -0.090940  0.837603 -0.287479 -0.287479 -0.287479 -0.287479   \n",
       "wd_ESE  16728.0 -0.104747  0.760229 -0.240100 -0.240100 -0.240100 -0.240100   \n",
       "wd_N    16728.0 -0.098007  0.828374 -0.294253 -0.294253 -0.294253 -0.294253   \n",
       "wd_NE   16728.0  0.396150  1.374305 -0.336096 -0.336096 -0.336096 -0.336096   \n",
       "wd_NNE  16728.0 -0.052830  0.906592 -0.277999 -0.277999 -0.277999 -0.277999   \n",
       "wd_NNW  16728.0  0.001667  1.002905 -0.268519 -0.268519 -0.268519 -0.268519   \n",
       "wd_NW   16728.0  0.345250  1.386346 -0.301494 -0.301494 -0.301494 -0.301494   \n",
       "wd_S    16728.0 -0.094642  0.747587 -0.209381 -0.209381 -0.209381 -0.209381   \n",
       "wd_SE   16728.0  0.096793  1.193171 -0.213390 -0.213390 -0.213390 -0.213390   \n",
       "wd_SSE  16728.0 -0.099904  0.716792 -0.201271 -0.201271 -0.201271 -0.201271   \n",
       "wd_SSW  16728.0 -0.118085  0.710733 -0.232280 -0.232280 -0.232280 -0.232280   \n",
       "wd_SW   16728.0  0.135504  1.209282 -0.262499 -0.262499 -0.262499 -0.262499   \n",
       "wd_W    16728.0 -0.132579  0.626731 -0.214496 -0.214496 -0.214496 -0.214496   \n",
       "wd_WNW  16728.0 -0.130440  0.723113 -0.263765 -0.263765 -0.263765 -0.263765   \n",
       "wd_WSW  16728.0 -0.106217  0.738706 -0.227342 -0.227342 -0.227342 -0.227342   \n",
       "\n",
       "              max  \n",
       "PM10    15.478326  \n",
       "SO2     32.086491  \n",
       "NO2      9.062102  \n",
       "CO      19.084302  \n",
       "O3      10.031324  \n",
       "DEWP    -0.197488  \n",
       "RAIN     1.140764  \n",
       "WSPM     7.955371  \n",
       "wd_ENE   3.478512  \n",
       "wd_ESE   4.164929  \n",
       "wd_N     3.398436  \n",
       "wd_NE    2.975342  \n",
       "wd_NNE   3.597135  \n",
       "wd_NNW   3.724127  \n",
       "wd_NW    3.316813  \n",
       "wd_S     4.775977  \n",
       "wd_SE    4.686263  \n",
       "wd_SSE   4.968429  \n",
       "wd_SSW   4.305145  \n",
       "wd_SW    3.809541  \n",
       "wd_W     4.662086  \n",
       "wd_WNW   3.791258  \n",
       "wd_WSW   4.398653  "
      ]
     },
     "execution_count": 207,
     "metadata": {},
     "output_type": "execute_result"
    }
   ],
   "source": [
    "X_test.describe().T"
   ]
  },
  {
   "cell_type": "code",
   "execution_count": 210,
   "metadata": {},
   "outputs": [],
   "source": [
    "PredValues1 = pd.DataFrame(LinReg.predict(X_test))"
   ]
  },
  {
   "cell_type": "code",
   "execution_count": 216,
   "metadata": {},
   "outputs": [
    {
     "data": {
      "text/html": [
       "<div>\n",
       "<style scoped>\n",
       "    .dataframe tbody tr th:only-of-type {\n",
       "        vertical-align: middle;\n",
       "    }\n",
       "\n",
       "    .dataframe tbody tr th {\n",
       "        vertical-align: top;\n",
       "    }\n",
       "\n",
       "    .dataframe thead th {\n",
       "        text-align: right;\n",
       "    }\n",
       "</style>\n",
       "<table border=\"1\" class=\"dataframe\">\n",
       "  <thead>\n",
       "    <tr style=\"text-align: right;\">\n",
       "      <th></th>\n",
       "      <th>0</th>\n",
       "    </tr>\n",
       "  </thead>\n",
       "  <tbody>\n",
       "    <tr>\n",
       "      <th>0</th>\n",
       "      <td>452.587347</td>\n",
       "    </tr>\n",
       "    <tr>\n",
       "      <th>1</th>\n",
       "      <td>462.040910</td>\n",
       "    </tr>\n",
       "    <tr>\n",
       "      <th>2</th>\n",
       "      <td>443.180832</td>\n",
       "    </tr>\n",
       "    <tr>\n",
       "      <th>3</th>\n",
       "      <td>409.396250</td>\n",
       "    </tr>\n",
       "    <tr>\n",
       "      <th>4</th>\n",
       "      <td>495.901605</td>\n",
       "    </tr>\n",
       "    <tr>\n",
       "      <th>...</th>\n",
       "      <td>...</td>\n",
       "    </tr>\n",
       "    <tr>\n",
       "      <th>16723</th>\n",
       "      <td>8.960288</td>\n",
       "    </tr>\n",
       "    <tr>\n",
       "      <th>16724</th>\n",
       "      <td>10.685214</td>\n",
       "    </tr>\n",
       "    <tr>\n",
       "      <th>16725</th>\n",
       "      <td>10.608719</td>\n",
       "    </tr>\n",
       "    <tr>\n",
       "      <th>16726</th>\n",
       "      <td>6.442641</td>\n",
       "    </tr>\n",
       "    <tr>\n",
       "      <th>16727</th>\n",
       "      <td>8.484724</td>\n",
       "    </tr>\n",
       "  </tbody>\n",
       "</table>\n",
       "<p>16728 rows × 1 columns</p>\n",
       "</div>"
      ],
      "text/plain": [
       "                0\n",
       "0      452.587347\n",
       "1      462.040910\n",
       "2      443.180832\n",
       "3      409.396250\n",
       "4      495.901605\n",
       "...           ...\n",
       "16723    8.960288\n",
       "16724   10.685214\n",
       "16725   10.608719\n",
       "16726    6.442641\n",
       "16727    8.484724\n",
       "\n",
       "[16728 rows x 1 columns]"
      ]
     },
     "execution_count": 216,
     "metadata": {},
     "output_type": "execute_result"
    }
   ],
   "source": [
    "PredValues1"
   ]
  },
  {
   "cell_type": "code",
   "execution_count": 218,
   "metadata": {},
   "outputs": [],
   "source": [
    "FinalValue = pd.DataFrame(test_data['REF_NO'])"
   ]
  },
  {
   "cell_type": "code",
   "execution_count": 219,
   "metadata": {},
   "outputs": [
    {
     "data": {
      "text/html": [
       "<div>\n",
       "<style scoped>\n",
       "    .dataframe tbody tr th:only-of-type {\n",
       "        vertical-align: middle;\n",
       "    }\n",
       "\n",
       "    .dataframe tbody tr th {\n",
       "        vertical-align: top;\n",
       "    }\n",
       "\n",
       "    .dataframe thead th {\n",
       "        text-align: right;\n",
       "    }\n",
       "</style>\n",
       "<table border=\"1\" class=\"dataframe\">\n",
       "  <thead>\n",
       "    <tr style=\"text-align: right;\">\n",
       "      <th></th>\n",
       "      <th>REF_NO</th>\n",
       "    </tr>\n",
       "  </thead>\n",
       "  <tbody>\n",
       "    <tr>\n",
       "      <th>0</th>\n",
       "      <td>33649</td>\n",
       "    </tr>\n",
       "    <tr>\n",
       "      <th>1</th>\n",
       "      <td>33650</td>\n",
       "    </tr>\n",
       "    <tr>\n",
       "      <th>2</th>\n",
       "      <td>33651</td>\n",
       "    </tr>\n",
       "    <tr>\n",
       "      <th>3</th>\n",
       "      <td>33652</td>\n",
       "    </tr>\n",
       "    <tr>\n",
       "      <th>4</th>\n",
       "      <td>33653</td>\n",
       "    </tr>\n",
       "    <tr>\n",
       "      <th>...</th>\n",
       "      <td>...</td>\n",
       "    </tr>\n",
       "    <tr>\n",
       "      <th>16723</th>\n",
       "      <td>35060</td>\n",
       "    </tr>\n",
       "    <tr>\n",
       "      <th>16724</th>\n",
       "      <td>35061</td>\n",
       "    </tr>\n",
       "    <tr>\n",
       "      <th>16725</th>\n",
       "      <td>35062</td>\n",
       "    </tr>\n",
       "    <tr>\n",
       "      <th>16726</th>\n",
       "      <td>35063</td>\n",
       "    </tr>\n",
       "    <tr>\n",
       "      <th>16727</th>\n",
       "      <td>35064</td>\n",
       "    </tr>\n",
       "  </tbody>\n",
       "</table>\n",
       "<p>16728 rows × 1 columns</p>\n",
       "</div>"
      ],
      "text/plain": [
       "       REF_NO\n",
       "0       33649\n",
       "1       33650\n",
       "2       33651\n",
       "3       33652\n",
       "4       33653\n",
       "...       ...\n",
       "16723   35060\n",
       "16724   35061\n",
       "16725   35062\n",
       "16726   35063\n",
       "16727   35064\n",
       "\n",
       "[16728 rows x 1 columns]"
      ]
     },
     "execution_count": 219,
     "metadata": {},
     "output_type": "execute_result"
    }
   ],
   "source": [
    "FinalValue"
   ]
  },
  {
   "cell_type": "code",
   "execution_count": 220,
   "metadata": {},
   "outputs": [],
   "source": [
    "FinalValue['PredValues'] = PredValues1"
   ]
  },
  {
   "cell_type": "code",
   "execution_count": 221,
   "metadata": {},
   "outputs": [
    {
     "data": {
      "text/html": [
       "<div>\n",
       "<style scoped>\n",
       "    .dataframe tbody tr th:only-of-type {\n",
       "        vertical-align: middle;\n",
       "    }\n",
       "\n",
       "    .dataframe tbody tr th {\n",
       "        vertical-align: top;\n",
       "    }\n",
       "\n",
       "    .dataframe thead th {\n",
       "        text-align: right;\n",
       "    }\n",
       "</style>\n",
       "<table border=\"1\" class=\"dataframe\">\n",
       "  <thead>\n",
       "    <tr style=\"text-align: right;\">\n",
       "      <th></th>\n",
       "      <th>REF_NO</th>\n",
       "      <th>PredValues</th>\n",
       "    </tr>\n",
       "  </thead>\n",
       "  <tbody>\n",
       "    <tr>\n",
       "      <th>0</th>\n",
       "      <td>33649</td>\n",
       "      <td>452.587347</td>\n",
       "    </tr>\n",
       "    <tr>\n",
       "      <th>1</th>\n",
       "      <td>33650</td>\n",
       "      <td>462.040910</td>\n",
       "    </tr>\n",
       "    <tr>\n",
       "      <th>2</th>\n",
       "      <td>33651</td>\n",
       "      <td>443.180832</td>\n",
       "    </tr>\n",
       "    <tr>\n",
       "      <th>3</th>\n",
       "      <td>33652</td>\n",
       "      <td>409.396250</td>\n",
       "    </tr>\n",
       "    <tr>\n",
       "      <th>4</th>\n",
       "      <td>33653</td>\n",
       "      <td>495.901605</td>\n",
       "    </tr>\n",
       "    <tr>\n",
       "      <th>...</th>\n",
       "      <td>...</td>\n",
       "      <td>...</td>\n",
       "    </tr>\n",
       "    <tr>\n",
       "      <th>16723</th>\n",
       "      <td>35060</td>\n",
       "      <td>8.960288</td>\n",
       "    </tr>\n",
       "    <tr>\n",
       "      <th>16724</th>\n",
       "      <td>35061</td>\n",
       "      <td>10.685214</td>\n",
       "    </tr>\n",
       "    <tr>\n",
       "      <th>16725</th>\n",
       "      <td>35062</td>\n",
       "      <td>10.608719</td>\n",
       "    </tr>\n",
       "    <tr>\n",
       "      <th>16726</th>\n",
       "      <td>35063</td>\n",
       "      <td>6.442641</td>\n",
       "    </tr>\n",
       "    <tr>\n",
       "      <th>16727</th>\n",
       "      <td>35064</td>\n",
       "      <td>8.484724</td>\n",
       "    </tr>\n",
       "  </tbody>\n",
       "</table>\n",
       "<p>16728 rows × 2 columns</p>\n",
       "</div>"
      ],
      "text/plain": [
       "       REF_NO  PredValues\n",
       "0       33649  452.587347\n",
       "1       33650  462.040910\n",
       "2       33651  443.180832\n",
       "3       33652  409.396250\n",
       "4       33653  495.901605\n",
       "...       ...         ...\n",
       "16723   35060    8.960288\n",
       "16724   35061   10.685214\n",
       "16725   35062   10.608719\n",
       "16726   35063    6.442641\n",
       "16727   35064    8.484724\n",
       "\n",
       "[16728 rows x 2 columns]"
      ]
     },
     "execution_count": 221,
     "metadata": {},
     "output_type": "execute_result"
    }
   ],
   "source": [
    "FinalValue"
   ]
  },
  {
   "cell_type": "code",
   "execution_count": 224,
   "metadata": {},
   "outputs": [],
   "source": [
    "FinalValue.to_csv('submission.csv', index=False, header=False)"
   ]
  },
  {
   "cell_type": "code",
   "execution_count": null,
   "metadata": {},
   "outputs": [],
   "source": []
  }
 ],
 "metadata": {
  "kernelspec": {
   "display_name": "Python 3",
   "language": "python",
   "name": "python3"
  },
  "language_info": {
   "codemirror_mode": {
    "name": "ipython",
    "version": 3
   },
   "file_extension": ".py",
   "mimetype": "text/x-python",
   "name": "python",
   "nbconvert_exporter": "python",
   "pygments_lexer": "ipython3",
   "version": "3.8.5"
  }
 },
 "nbformat": 4,
 "nbformat_minor": 4
}
